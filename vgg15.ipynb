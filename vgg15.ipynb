{
 "cells": [
  {
   "cell_type": "code",
   "execution_count": 9,
   "id": "921935",
   "metadata": {
    "collapsed": false,
    "jupyter": {}
   },
   "outputs": [],
   "source": [
    "import numpy as np\n",
    "import tensorflow as tf\n",
    "import matplotlib.pyplot as plt\n",
    "\n",
    "plt.style.use(['seaborn-v0_8-colorblind', 'seaborn-v0_8-darkgrid'])\n",
    "plt.rcParams.update({'font.size': 20})\n",
    "\n",
    "np.set_printoptions(suppress=True, precision=4)\n",
    "\n",
    "# Automatically reload your external source code\n",
    "%load_ext autoreload\n",
    "%autoreload 2"
   ]
  },
  {
   "cell_type": "code",
   "execution_count": 10,
   "id": "fc0045",
   "metadata": {
    "collapsed": false
   },
   "outputs": [
    {
     "data": {
      "text/plain": [
       "[PhysicalDevice(name='/physical_device:GPU:0', device_type='GPU')]"
      ]
     },
     "execution_count": 10,
     "metadata": {},
     "output_type": "execute_result"
    }
   ],
   "source": [
    "tf.config.list_physical_devices('GPU')"
   ]
  },
  {
   "cell_type": "code",
   "execution_count": 2,
   "id": "f0b9ae",
   "metadata": {
    "collapsed": false,
    "jupyter": {}
   },
   "outputs": [],
   "source": [
    "from layers import Dense"
   ]
  },
  {
   "cell_type": "code",
   "execution_count": 3,
   "id": "fb77e6",
   "metadata": {
    "collapsed": false,
    "jupyter": {}
   },
   "outputs": [],
   "source": [
    "from vgg_nets import VGG4Plus, VGG15Plus, VGG15PlusPlus"
   ]
  },
  {
   "cell_type": "code",
   "execution_count": 13,
   "id": "5813a0",
   "metadata": {
    "collapsed": false,
    "jupyter": {}
   },
   "outputs": [
    {
     "name": "stdout",
     "output_type": "stream",
     "text": [
      "---------------------------------------------------------------------------\n",
      "Dense layer output(denseout) shape: [1, 3]\n",
      "Dropout layer output(dropout1) shape: [1, 128]\n",
      "Dense layer output(dense1) shape: [1, 128]\n",
      "Flatten layer output(flatten1) shape: [1, 16384]\n",
      "MaxPool2D layer output(pool1) shape: [1, 16, 16, 64]\n",
      "Conv2D layer output(conv2) shape: [1, 32, 32, 64]\n",
      "Conv2D layer output(conv1) shape: [1, 32, 32, 64]\n",
      "---------------------------------------------------------------------------\n"
     ]
    }
   ],
   "source": [
    "v = VGG4Plus(C=3, input_feats_shape=(32, 32, 3), wt_init='he')\n",
    "v.compile()"
   ]
  },
  {
   "cell_type": "code",
   "execution_count": 15,
   "id": "0c20df",
   "metadata": {
    "collapsed": false,
    "jupyter": {}
   },
   "outputs": [
    {
     "name": "stdout",
     "output_type": "stream",
     "text": [
      "---------------------------------------------------------------------------\n",
      "Dense layer output(denseout) shape: [1, 7]\n",
      "block6:\n",
      "\tDropout layer output(block6/dropout_0) shape: [1, 512]\n",
      "\tDense layer output(block6/dense_0) shape: [1, 512]\n",
      "Flatten layer output(flatten1) shape: [1, 512]\n",
      "block5:\n",
      "\tMaxPool2D layer output(block5/pool) shape: [1, 1, 1, 512]\n",
      "\tConv2D layer output(block5/conv_2) shape: [1, 2, 2, 512]\n",
      "\tConv2D layer output(block5/conv_1) shape: [1, 2, 2, 512]\n",
      "\tConv2D layer output(block5/conv_0) shape: [1, 2, 2, 512]\n",
      "block4:\n",
      "\tMaxPool2D layer output(block4/pool) shape: [1, 2, 2, 512]\n",
      "\tConv2D layer output(block4/conv_2) shape: [1, 4, 4, 512]\n",
      "\tConv2D layer output(block4/conv_1) shape: [1, 4, 4, 512]\n",
      "\tConv2D layer output(block4/conv_0) shape: [1, 4, 4, 512]\n",
      "block3:\n",
      "\tMaxPool2D layer output(block3/pool) shape: [1, 4, 4, 256]\n",
      "\tConv2D layer output(block3/conv_2) shape: [1, 8, 8, 256]\n",
      "\tConv2D layer output(block3/conv_1) shape: [1, 8, 8, 256]\n",
      "\tConv2D layer output(block3/conv_0) shape: [1, 8, 8, 256]\n",
      "block2:\n",
      "\tMaxPool2D layer output(block2/pool) shape: [1, 8, 8, 128]\n",
      "\tConv2D layer output(block2/conv_1) shape: [1, 16, 16, 128]\n",
      "\tConv2D layer output(block2/conv_0) shape: [1, 16, 16, 128]\n",
      "block1:\n",
      "\tMaxPool2D layer output(block1/pool) shape: [1, 16, 16, 64]\n",
      "\tConv2D layer output(block1/conv_1) shape: [1, 32, 32, 64]\n",
      "\tConv2D layer output(block1/conv_0) shape: [1, 32, 32, 64]\n",
      "---------------------------------------------------------------------------\n"
     ]
    }
   ],
   "source": [
    "v = VGG15Plus(C=7, input_feats_shape=(32, 32, 3), wt_init='he')\n",
    "v.compile()"
   ]
  },
  {
   "cell_type": "code",
   "execution_count": 17,
   "id": "c49d7e",
   "metadata": {
    "collapsed": false,
    "jupyter": {}
   },
   "outputs": [
    {
     "name": "stdout",
     "output_type": "stream",
     "text": [
      "---------------------------------------------------------------------------\n",
      "Dense layer output(denseout) shape: [1, 5]\n",
      "block6:\n",
      "\tDropout layer output(block6/dropout_0) shape: [1, 512]\n",
      "\tDense layer output(block6/dense_0) shape: [1, 512]\n",
      "Flatten layer output(flatten1) shape: [1, 512]\n",
      "block5:\n",
      "\tMaxPool2D layer output(block5/pool) shape: [1, 1, 1, 512]\n",
      "\tConv2D layer output(block5/conv_2) shape: [1, 2, 2, 512]\n",
      "\tConv2D layer output(block5/conv_1) shape: [1, 2, 2, 512]\n",
      "\tConv2D layer output(block5/conv_0) shape: [1, 2, 2, 512]\n",
      "block4:\n",
      "\tMaxPool2D layer output(block4/pool) shape: [1, 2, 2, 512]\n",
      "\tConv2D layer output(block4/conv_2) shape: [1, 4, 4, 512]\n",
      "\tConv2D layer output(block4/conv_1) shape: [1, 4, 4, 512]\n",
      "\tConv2D layer output(block4/conv_0) shape: [1, 4, 4, 512]\n",
      "block3:\n",
      "\tMaxPool2D layer output(block3/pool) shape: [1, 4, 4, 256]\n",
      "\tConv2D layer output(block3/conv_2) shape: [1, 8, 8, 256]\n",
      "\tConv2D layer output(block3/conv_1) shape: [1, 8, 8, 256]\n",
      "\tConv2D layer output(block3/conv_0) shape: [1, 8, 8, 256]\n",
      "block2:\n",
      "\tMaxPool2D layer output(block2/pool) shape: [1, 8, 8, 128]\n",
      "\tConv2D layer output(block2/conv_1) shape: [1, 16, 16, 128]\n",
      "\tConv2D layer output(block2/conv_0) shape: [1, 16, 16, 128]\n",
      "block1:\n",
      "\tMaxPool2D layer output(block1/pool) shape: [1, 16, 16, 64]\n",
      "\tConv2D layer output(block1/conv_1) shape: [1, 32, 32, 64]\n",
      "\tConv2D layer output(block1/conv_0) shape: [1, 32, 32, 64]\n",
      "---------------------------------------------------------------------------\n"
     ]
    }
   ],
   "source": [
    "v = VGG15PlusPlus(C=5, input_feats_shape=(32, 32, 3), wt_init='he')\n",
    "v.compile()"
   ]
  },
  {
   "cell_type": "code",
   "execution_count": 20,
   "id": "58252e",
   "metadata": {
    "collapsed": false,
    "jupyter": {}
   },
   "outputs": [
    {
     "name": "stdout",
     "output_type": "stream",
     "text": [
      "---------------------------------------------------------------------------\n",
      "Dense layer output(denseout) shape: [1, 10]\n",
      "Dropout layer output(dropout1) shape: [1, 128]\n",
      "Dense layer output(dense1) shape: [1, 128]\n",
      "Flatten layer output(flatten1) shape: [1, 16384]\n",
      "MaxPool2D layer output(pool1) shape: [1, 16, 16, 64]\n",
      "Conv2D layer output(conv2) shape: [1, 32, 32, 64]\n",
      "Conv2D layer output(conv1) shape: [1, 32, 32, 64]\n",
      "---------------------------------------------------------------------------\n"
     ]
    },
    {
     "name": "stderr",
     "output_type": "stream",
     "text": [
      "WARNING: All log messages before absl::InitializeLog() is called are written to STDERR\n",
      "I0000 00:00:1741800795.971237    1292 service.cc:145] XLA service 0x7abe90f513c0 initialized for platform CUDA (this does not guarantee that XLA will be used). Devices:\n",
      "I0000 00:00:1741800795.971309    1292 service.cc:153]   StreamExecutor device (0): NVIDIA L4, Compute Capability 8.9\n",
      "2025-03-12 17:33:15.979500: I tensorflow/compiler/mlir/tensorflow/utils/dump_mlir_util.cc:268] disabling MLIR crash reproducer, set env var `MLIR_CRASH_REPRODUCER_DIRECTORY` to enable.\n",
      "I0000 00:00:1741800796.061895    1292 device_compiler.h:188] Compiled cluster using XLA!  This line is logged at most once for the lifetime of the process.\n"
     ]
    },
    {
     "name": "stdout",
     "output_type": "stream",
     "text": [
      "Epoch 1/1: train_loss = 1.3099, val_loss = 1.0484, val_acc = 0.6376, time = 16.62s\n",
      "Finished training after 0 epochs!\n"
     ]
    },
    {
     "name": "stdout",
     "output_type": "stream",
     "text": [
      "VGG4Plus CIFAR-10 Test accuracy: 62.79%\n"
     ]
    }
   ],
   "source": [
    "#train VGG4Plus\n",
    "vgg4plus = VGG4Plus(C=10, input_feats_shape=(32, 32, 3))\n",
    "\n",
    "vgg4plus.compile(optimizer='adamw')\n",
    "\n",
    "train_loss_hist, val_loss_hist, val_acc_hist, epochs_run = vgg4plus.fit(x_train, y_train, x_val, y_val, max_epochs=1)\n",
    "\n",
    "vgg4plus_test_acc, vgg4plus_test_loss = vgg4plus.evaluate(x_test, y_test)\n",
    "print(f\"VGG4Plus CIFAR-10 Test accuracy: {vgg4plus_test_acc.numpy()*100:.2f}%\")\n",
    "        "
   ]
  },
  {
   "cell_type": "code",
   "execution_count": 4,
   "id": "ecec6b",
   "metadata": {
    "collapsed": false,
    "jupyter": {}
   },
   "outputs": [
    {
     "name": "stderr",
     "output_type": "stream",
     "text": [
      "2025-03-13 19:21:40.817332: I tensorflow/core/common_runtime/gpu/gpu_device.cc:1928] Created device /job:localhost/replica:0/task:0/device:GPU:0 with 20601 MB memory:  -> device: 0, name: NVIDIA L4, pci bus id: 0000:00:03.0, compute capability: 8.9\n"
     ]
    }
   ],
   "source": [
    "from datasets import get_dataset\n",
    "#load in CIFAR-10\n",
    "x_train, y_train, x_val, y_val, x_test, y_test, classnames = get_dataset('cifar10')"
   ]
  },
  {
   "cell_type": "code",
   "execution_count": 21,
   "id": "d65765",
   "metadata": {
    "collapsed": false,
    "jupyter": {}
   },
   "outputs": [
    {
     "name": "stdout",
     "output_type": "stream",
     "text": [
      "---------------------------------------------------------------------------\n",
      "Dense layer output(denseout) shape: [1, 10]\n",
      "block6:\n",
      "\tDropout layer output(block6/dropout_0) shape: [1, 512]\n",
      "\tDense layer output(block6/dense_0) shape: [1, 512]\n",
      "Flatten layer output(flatten1) shape: [1, 512]\n",
      "block5:\n",
      "\tMaxPool2D layer output(block5/pool) shape: [1, 1, 1, 512]\n",
      "\tConv2D layer output(block5/conv_2) shape: [1, 2, 2, 512]\n",
      "\tConv2D layer output(block5/conv_1) shape: [1, 2, 2, 512]\n",
      "\tConv2D layer output(block5/conv_0) shape: [1, 2, 2, 512]\n",
      "block4:\n",
      "\tMaxPool2D layer output(block4/pool) shape: [1, 2, 2, 512]\n",
      "\tConv2D layer output(block4/conv_2) shape: [1, 4, 4, 512]\n",
      "\tConv2D layer output(block4/conv_1) shape: [1, 4, 4, 512]\n",
      "\tConv2D layer output(block4/conv_0) shape: [1, 4, 4, 512]\n",
      "block3:\n",
      "\tMaxPool2D layer output(block3/pool) shape: [1, 4, 4, 256]\n",
      "\tConv2D layer output(block3/conv_2) shape: [1, 8, 8, 256]\n",
      "\tConv2D layer output(block3/conv_1) shape: [1, 8, 8, 256]\n",
      "\tConv2D layer output(block3/conv_0) shape: [1, 8, 8, 256]\n",
      "block2:\n",
      "\tMaxPool2D layer output(block2/pool) shape: [1, 8, 8, 128]\n",
      "\tConv2D layer output(block2/conv_1) shape: [1, 16, 16, 128]\n",
      "\tConv2D layer output(block2/conv_0) shape: [1, 16, 16, 128]\n",
      "block1:\n",
      "\tMaxPool2D layer output(block1/pool) shape: [1, 16, 16, 64]\n",
      "\tConv2D layer output(block1/conv_1) shape: [1, 32, 32, 64]\n",
      "\tConv2D layer output(block1/conv_0) shape: [1, 32, 32, 64]\n",
      "---------------------------------------------------------------------------\n"
     ]
    },
    {
     "name": "stdout",
     "output_type": "stream",
     "text": [
      "Epoch 1/1: train_loss = 1.3630, val_loss = 2.8718, val_acc = 0.3135, time = 33.81s\n",
      "Finished training after 0 epochs!\n"
     ]
    },
    {
     "name": "stdout",
     "output_type": "stream",
     "text": [
      "VGG15Plus CIFAR-10 Test accuracy: 31.40%\n"
     ]
    }
   ],
   "source": [
    "#train VGG15Plus\n",
    "vgg15plus = VGG15Plus(C=10, \n",
    "                    input_feats_shape=(32, 32, 3))\n",
    "\n",
    "vgg15plus.compile(optimizer='adamw')\n",
    "\n",
    "train_loss_hist, val_loss_hist, val_acc_hist, epochs_run = vgg15plus.fit(x_train, y_train, x_val, y_val,\n",
    "                                                                         max_epochs=1)\n",
    "\n",
    "vgg15plus_test_acc, vgg15plus_test_loss = vgg15plus.evaluate(x_test, y_test)\n",
    "print(f\"VGG15Plus CIFAR-10 Test accuracy: {vgg15plus_test_acc.numpy()*100:.2f}%\")\n",
    "        "
   ]
  },
  {
   "cell_type": "code",
   "execution_count": 22,
   "id": "1a65a9",
   "metadata": {
    "collapsed": false,
    "jupyter": {}
   },
   "outputs": [
    {
     "name": "stdout",
     "output_type": "stream",
     "text": [
      "---------------------------------------------------------------------------\n",
      "Dense layer output(denseout) shape: [1, 10]\n",
      "block6:\n",
      "\tDropout layer output(block6/dropout_0) shape: [1, 512]\n",
      "\tDense layer output(block6/dense_0) shape: [1, 512]\n",
      "Flatten layer output(flatten1) shape: [1, 512]\n",
      "block5:\n",
      "\tMaxPool2D layer output(block5/pool) shape: [1, 1, 1, 512]\n",
      "\tConv2D layer output(block5/conv_2) shape: [1, 2, 2, 512]\n",
      "\tConv2D layer output(block5/conv_1) shape: [1, 2, 2, 512]\n",
      "\tConv2D layer output(block5/conv_0) shape: [1, 2, 2, 512]\n",
      "block4:\n",
      "\tMaxPool2D layer output(block4/pool) shape: [1, 2, 2, 512]\n",
      "\tConv2D layer output(block4/conv_2) shape: [1, 4, 4, 512]\n",
      "\tConv2D layer output(block4/conv_1) shape: [1, 4, 4, 512]\n",
      "\tConv2D layer output(block4/conv_0) shape: [1, 4, 4, 512]\n",
      "block3:\n",
      "\tMaxPool2D layer output(block3/pool) shape: [1, 4, 4, 256]\n",
      "\tConv2D layer output(block3/conv_2) shape: [1, 8, 8, 256]\n",
      "\tConv2D layer output(block3/conv_1) shape: [1, 8, 8, 256]\n",
      "\tConv2D layer output(block3/conv_0) shape: [1, 8, 8, 256]\n",
      "block2:\n",
      "\tMaxPool2D layer output(block2/pool) shape: [1, 8, 8, 128]\n",
      "\tConv2D layer output(block2/conv_1) shape: [1, 16, 16, 128]\n",
      "\tConv2D layer output(block2/conv_0) shape: [1, 16, 16, 128]\n",
      "block1:\n",
      "\tMaxPool2D layer output(block1/pool) shape: [1, 16, 16, 64]\n",
      "\tConv2D layer output(block1/conv_1) shape: [1, 32, 32, 64]\n",
      "\tConv2D layer output(block1/conv_0) shape: [1, 32, 32, 64]\n",
      "---------------------------------------------------------------------------\n"
     ]
    },
    {
     "name": "stdout",
     "output_type": "stream",
     "text": [
      "Epoch 1/1: train_loss = 1.3723, val_loss = 2.4260, val_acc = 0.3580, time = 32.24s\n",
      "Finished training after 0 epochs!\n"
     ]
    },
    {
     "name": "stdout",
     "output_type": "stream",
     "text": [
      "VGG15PlusPlus CIFAR-10 Test accuracy: 31.40%\n"
     ]
    }
   ],
   "source": [
    "#train VGG15PlusPlus\n",
    "vgg15plusplus = VGG15PlusPlus(C=10, \n",
    "                    input_feats_shape=(32, 32, 3))\n",
    "\n",
    "vgg15plusplus.compile(optimizer='adamw')\n",
    "\n",
    "train_loss_hist, val_loss_hist, val_acc_hist, epochs_run = vgg15plusplus.fit(x_train, y_train, x_val, y_val,\n",
    "                                                                             max_epochs=1)\n",
    "\n",
    "vgg15plusplus_test_acc, vgg15plusplus_test_loss = vgg15plus.evaluate(x_test, y_test)\n",
    "print(f\"VGG15PlusPlus CIFAR-10 Test accuracy: {vgg15plusplus_test_acc.numpy()*100:.2f}%\")\n",
    "        "
   ]
  },
  {
   "cell_type": "code",
   "execution_count": 6,
   "id": "aa5828",
   "metadata": {
    "collapsed": false,
    "jupyter": {}
   },
   "outputs": [],
   "source": [
    "from vgg_nets import VGG15"
   ]
  },
  {
   "cell_type": "code",
   "execution_count": 25,
   "id": "237599",
   "metadata": {
    "collapsed": false,
    "jupyter": {}
   },
   "outputs": [
    {
     "name": "stdout",
     "output_type": "stream",
     "text": [
      "---------------------------------------------------------------------------\n",
      "Dense layer output(denseout) shape: [1, 10]\n",
      "Dropout layer output(dropout1) shape: [1, 128]\n",
      "Dense layer output(dense1) shape: [1, 128]\n",
      "Flatten layer output(flatten1) shape: [1, 16384]\n",
      "MaxPool2D layer output(pool1) shape: [1, 16, 16, 64]\n",
      "Conv2D layer output(conv2) shape: [1, 32, 32, 64]\n",
      "Conv2D layer output(conv1) shape: [1, 32, 32, 64]\n",
      "---------------------------------------------------------------------------\n"
     ]
    },
    {
     "name": "stdout",
     "output_type": "stream",
     "text": [
      "Epoch 1/10000: train_loss = 1.3008, val_loss = 1.0421, val_acc = 0.6330, time = 11.65s\n"
     ]
    },
    {
     "name": "stdout",
     "output_type": "stream",
     "text": [
      "Epoch 2/10000: train_loss = 0.9291, val_loss = 0.9372, val_acc = 0.6775, time = 7.75s\n"
     ]
    },
    {
     "name": "stdout",
     "output_type": "stream",
     "text": [
      "Epoch 3/10000: train_loss = 0.7915, val_loss = 1.0280, val_acc = 0.6416, time = 7.77s\n"
     ]
    },
    {
     "name": "stdout",
     "output_type": "stream",
     "text": [
      "Epoch 4/10000: train_loss = 0.6763, val_loss = 0.9706, val_acc = 0.6805, time = 7.77s\n"
     ]
    },
    {
     "name": "stdout",
     "output_type": "stream",
     "text": [
      "Epoch 5/10000: train_loss = 0.5851, val_loss = 0.8705, val_acc = 0.7059, time = 7.75s\n"
     ]
    },
    {
     "name": "stdout",
     "output_type": "stream",
     "text": [
      "Epoch 6/10000: train_loss = 0.5111, val_loss = 0.9168, val_acc = 0.6917, time = 7.73s\n"
     ]
    },
    {
     "name": "stdout",
     "output_type": "stream",
     "text": [
      "Epoch 7/10000: train_loss = 0.4366, val_loss = 0.9142, val_acc = 0.7031, time = 7.74s\n"
     ]
    },
    {
     "name": "stdout",
     "output_type": "stream",
     "text": [
      "Early stopping triggered at epoch 8\n",
      "Finished training after 7 epochs!\n"
     ]
    },
    {
     "name": "stdout",
     "output_type": "stream",
     "text": [
      "VGG4Plus CIFAR-10 Test accuracy: 69.01%\n",
      "---------------------------------------------------------------------------\n",
      "Dense layer output(denseout) shape: [1, 10]\n",
      "block6:\n",
      "\tDropout layer output(block6/dropout_0) shape: [1, 512]\n",
      "\tDense layer output(block6/dense_0) shape: [1, 512]\n",
      "Flatten layer output(flatten1) shape: [1, 512]\n",
      "block5:\n",
      "\tMaxPool2D layer output(block5/pool) shape: [1, 1, 1, 512]\n",
      "\tConv2D layer output(block5/conv_2) shape: [1, 2, 2, 512]\n",
      "\tConv2D layer output(block5/conv_1) shape: [1, 2, 2, 512]\n",
      "\tConv2D layer output(block5/conv_0) shape: [1, 2, 2, 512]\n",
      "block4:\n",
      "\tMaxPool2D layer output(block4/pool) shape: [1, 2, 2, 512]\n",
      "\tConv2D layer output(block4/conv_2) shape: [1, 4, 4, 512]\n",
      "\tConv2D layer output(block4/conv_1) shape: [1, 4, 4, 512]\n",
      "\tConv2D layer output(block4/conv_0) shape: [1, 4, 4, 512]\n",
      "block3:\n",
      "\tMaxPool2D layer output(block3/pool) shape: [1, 4, 4, 256]\n",
      "\tConv2D layer output(block3/conv_2) shape: [1, 8, 8, 256]\n",
      "\tConv2D layer output(block3/conv_1) shape: [1, 8, 8, 256]\n",
      "\tConv2D layer output(block3/conv_0) shape: [1, 8, 8, 256]\n",
      "block2:\n",
      "\tMaxPool2D layer output(block2/pool) shape: [1, 8, 8, 128]\n",
      "\tConv2D layer output(block2/conv_1) shape: [1, 16, 16, 128]\n",
      "\tConv2D layer output(block2/conv_0) shape: [1, 16, 16, 128]\n",
      "block1:\n",
      "\tMaxPool2D layer output(block1/pool) shape: [1, 16, 16, 64]\n",
      "\tConv2D layer output(block1/conv_1) shape: [1, 32, 32, 64]\n",
      "\tConv2D layer output(block1/conv_0) shape: [1, 32, 32, 64]\n",
      "---------------------------------------------------------------------------\n"
     ]
    },
    {
     "name": "stdout",
     "output_type": "stream",
     "text": [
      "Epoch 1/10000: train_loss = 1.9564, val_loss = 1.6334, val_acc = 0.3602, time = 13.62s\n"
     ]
    },
    {
     "name": "stdout",
     "output_type": "stream",
     "text": [
      "Epoch 2/10000: train_loss = 1.5228, val_loss = 1.4504, val_acc = 0.4501, time = 8.16s\n"
     ]
    },
    {
     "name": "stdout",
     "output_type": "stream",
     "text": [
      "Epoch 3/10000: train_loss = 1.1999, val_loss = 1.1045, val_acc = 0.6164, time = 8.17s\n"
     ]
    },
    {
     "name": "stdout",
     "output_type": "stream",
     "text": [
      "Epoch 4/10000: train_loss = 0.9628, val_loss = 0.9524, val_acc = 0.6649, time = 8.19s\n"
     ]
    },
    {
     "name": "stdout",
     "output_type": "stream",
     "text": [
      "Epoch 5/10000: train_loss = 0.8276, val_loss = 0.8046, val_acc = 0.7252, time = 8.18s\n"
     ]
    },
    {
     "name": "stdout",
     "output_type": "stream",
     "text": [
      "Epoch 6/10000: train_loss = 0.7200, val_loss = 0.8029, val_acc = 0.7396, time = 8.20s\n"
     ]
    },
    {
     "name": "stdout",
     "output_type": "stream",
     "text": [
      "Epoch 7/10000: train_loss = 0.6717, val_loss = 0.7117, val_acc = 0.7692, time = 8.18s\n"
     ]
    },
    {
     "name": "stdout",
     "output_type": "stream",
     "text": [
      "Epoch 8/10000: train_loss = 0.6078, val_loss = 0.6967, val_acc = 0.7748, time = 8.17s\n"
     ]
    },
    {
     "name": "stdout",
     "output_type": "stream",
     "text": [
      "Epoch 9/10000: train_loss = 0.5707, val_loss = 0.7002, val_acc = 0.7738, time = 8.17s\n"
     ]
    },
    {
     "name": "stdout",
     "output_type": "stream",
     "text": [
      "Epoch 10/10000: train_loss = 0.5454, val_loss = 0.7970, val_acc = 0.7562, time = 8.21s\n"
     ]
    },
    {
     "name": "stdout",
     "output_type": "stream",
     "text": [
      "Early stopping triggered at epoch 11\n",
      "Finished training after 10 epochs!\n"
     ]
    },
    {
     "name": "stdout",
     "output_type": "stream",
     "text": [
      "VGG15 CIFAR-10 Test accuracy: 77.13%\n"
     ]
    },
    {
     "name": "stdout",
     "output_type": "stream",
     "text": [
      "---------------------------------------------------------------------------\n",
      "Dense layer output(denseout) shape: [1, 10]\n",
      "block6:\n",
      "\tDropout layer output(block6/dropout_0) shape: [1, 512]\n",
      "\tDense layer output(block6/dense_0) shape: [1, 512]\n",
      "Flatten layer output(flatten1) shape: [1, 512]\n",
      "block5:\n",
      "\tMaxPool2D layer output(block5/pool) shape: [1, 1, 1, 512]\n",
      "\tConv2D layer output(block5/conv_2) shape: [1, 2, 2, 512]\n",
      "\tConv2D layer output(block5/conv_1) shape: [1, 2, 2, 512]\n",
      "\tConv2D layer output(block5/conv_0) shape: [1, 2, 2, 512]\n",
      "block4:\n",
      "\tMaxPool2D layer output(block4/pool) shape: [1, 2, 2, 512]\n",
      "\tConv2D layer output(block4/conv_2) shape: [1, 4, 4, 512]\n",
      "\tConv2D layer output(block4/conv_1) shape: [1, 4, 4, 512]\n",
      "\tConv2D layer output(block4/conv_0) shape: [1, 4, 4, 512]\n",
      "block3:\n",
      "\tMaxPool2D layer output(block3/pool) shape: [1, 4, 4, 256]\n",
      "\tConv2D layer output(block3/conv_2) shape: [1, 8, 8, 256]\n",
      "\tConv2D layer output(block3/conv_1) shape: [1, 8, 8, 256]\n",
      "\tConv2D layer output(block3/conv_0) shape: [1, 8, 8, 256]\n",
      "block2:\n",
      "\tMaxPool2D layer output(block2/pool) shape: [1, 8, 8, 128]\n",
      "\tConv2D layer output(block2/conv_1) shape: [1, 16, 16, 128]\n",
      "\tConv2D layer output(block2/conv_0) shape: [1, 16, 16, 128]\n",
      "block1:\n",
      "\tMaxPool2D layer output(block1/pool) shape: [1, 16, 16, 64]\n",
      "\tConv2D layer output(block1/conv_1) shape: [1, 32, 32, 64]\n",
      "\tConv2D layer output(block1/conv_0) shape: [1, 32, 32, 64]\n",
      "---------------------------------------------------------------------------\n"
     ]
    },
    {
     "name": "stdout",
     "output_type": "stream",
     "text": [
      "Epoch 1/10000: train_loss = 1.3595, val_loss = 3.0995, val_acc = 0.2636, time = 32.55s\n"
     ]
    },
    {
     "name": "stdout",
     "output_type": "stream",
     "text": [
      "Epoch 2/10000: train_loss = 0.8201, val_loss = 1.3551, val_acc = 0.5292, time = 17.55s\n"
     ]
    },
    {
     "name": "stdout",
     "output_type": "stream",
     "text": [
      "Epoch 3/10000: train_loss = 0.6576, val_loss = 1.4886, val_acc = 0.4954, time = 17.58s\n"
     ]
    },
    {
     "name": "stdout",
     "output_type": "stream",
     "text": [
      "Epoch 4/10000: train_loss = 0.5620, val_loss = 1.5880, val_acc = 0.4675, time = 17.48s\n"
     ]
    },
    {
     "name": "stdout",
     "output_type": "stream",
     "text": [
      "Early stopping triggered at epoch 5\n",
      "Finished training after 4 epochs!\n"
     ]
    },
    {
     "name": "stdout",
     "output_type": "stream",
     "text": [
      "VGG15Plus CIFAR-10 Test accuracy: 51.15%\n"
     ]
    },
    {
     "name": "stdout",
     "output_type": "stream",
     "text": [
      "---------------------------------------------------------------------------\n",
      "Dense layer output(denseout) shape: [1, 10]\n",
      "block6:\n",
      "\tDropout layer output(block6/dropout_0) shape: [1, 512]\n",
      "\tDense layer output(block6/dense_0) shape: [1, 512]\n",
      "Flatten layer output(flatten1) shape: [1, 512]\n",
      "block5:\n",
      "\tMaxPool2D layer output(block5/pool) shape: [1, 1, 1, 512]\n",
      "\tConv2D layer output(block5/conv_2) shape: [1, 2, 2, 512]\n",
      "\tConv2D layer output(block5/conv_1) shape: [1, 2, 2, 512]\n",
      "\tConv2D layer output(block5/conv_0) shape: [1, 2, 2, 512]\n",
      "block4:\n",
      "\tMaxPool2D layer output(block4/pool) shape: [1, 2, 2, 512]\n",
      "\tConv2D layer output(block4/conv_2) shape: [1, 4, 4, 512]\n",
      "\tConv2D layer output(block4/conv_1) shape: [1, 4, 4, 512]\n",
      "\tConv2D layer output(block4/conv_0) shape: [1, 4, 4, 512]\n",
      "block3:\n",
      "\tMaxPool2D layer output(block3/pool) shape: [1, 4, 4, 256]\n",
      "\tConv2D layer output(block3/conv_2) shape: [1, 8, 8, 256]\n",
      "\tConv2D layer output(block3/conv_1) shape: [1, 8, 8, 256]\n",
      "\tConv2D layer output(block3/conv_0) shape: [1, 8, 8, 256]\n",
      "block2:\n",
      "\tMaxPool2D layer output(block2/pool) shape: [1, 8, 8, 128]\n",
      "\tConv2D layer output(block2/conv_1) shape: [1, 16, 16, 128]\n",
      "\tConv2D layer output(block2/conv_0) shape: [1, 16, 16, 128]\n",
      "block1:\n",
      "\tMaxPool2D layer output(block1/pool) shape: [1, 16, 16, 64]\n",
      "\tConv2D layer output(block1/conv_1) shape: [1, 32, 32, 64]\n",
      "\tConv2D layer output(block1/conv_0) shape: [1, 32, 32, 64]\n",
      "---------------------------------------------------------------------------\n"
     ]
    },
    {
     "name": "stdout",
     "output_type": "stream",
     "text": [
      "Epoch 1/10000: train_loss = 1.3567, val_loss = 2.9311, val_acc = 0.2931, time = 32.12s\n"
     ]
    },
    {
     "name": "stdout",
     "output_type": "stream",
     "text": [
      "Epoch 2/10000: train_loss = 0.8272, val_loss = 1.6922, val_acc = 0.4431, time = 17.52s\n"
     ]
    },
    {
     "name": "stdout",
     "output_type": "stream",
     "text": [
      "Epoch 3/10000: train_loss = 0.6556, val_loss = 1.3982, val_acc = 0.5385, time = 17.55s\n"
     ]
    },
    {
     "name": "stdout",
     "output_type": "stream",
     "text": [
      "Epoch 4/10000: train_loss = 0.5580, val_loss = 1.3385, val_acc = 0.5559, time = 17.47s\n"
     ]
    },
    {
     "name": "stdout",
     "output_type": "stream",
     "text": [
      "Epoch 5/10000: train_loss = 0.4905, val_loss = 1.3470, val_acc = 0.5972, time = 17.39s\n"
     ]
    },
    {
     "name": "stdout",
     "output_type": "stream",
     "text": [
      "Epoch 6/10000: train_loss = 0.4416, val_loss = 0.8959, val_acc = 0.7137, time = 17.37s\n"
     ]
    },
    {
     "name": "stdout",
     "output_type": "stream",
     "text": [
      "Epoch 7/10000: train_loss = 0.4084, val_loss = 1.0093, val_acc = 0.6719, time = 17.39s\n"
     ]
    },
    {
     "name": "stdout",
     "output_type": "stream",
     "text": [
      "Epoch 8/10000: train_loss = 0.3705, val_loss = 0.9456, val_acc = 0.7045, time = 17.40s\n"
     ]
    },
    {
     "name": "stdout",
     "output_type": "stream",
     "text": [
      "Early stopping triggered at epoch 9\n",
      "Finished training after 8 epochs!\n"
     ]
    },
    {
     "name": "stdout",
     "output_type": "stream",
     "text": [
      "VGG15PlusPlus CIFAR-10 Test accuracy: 70.53%\n"
     ]
    }
   ],
   "source": [
    "#store lists\n",
    "test_accuracies, train_losses, val_losses, val_accs, epochs_list = [], [], [], [], []\n",
    "\n",
    "models = [(VGG4Plus, 'VGG4Plus'), (VGG15, 'VGG15'), (VGG15Plus, 'VGG15Plus'), (VGG15PlusPlus, 'VGG15PlusPlus')]\n",
    "\n",
    "for model_class, model_name in models:\n",
    "    tf.keras.backend.clear_session()\n",
    "    tf.random.set_seed(42)\n",
    "    \n",
    "    # Initialize model with He initialization\n",
    "    model = model_class(C=10, input_feats_shape=(32, 32, 3))\n",
    "    model.compile(optimizer='adamw')\n",
    "    \n",
    "    # Train model\n",
    "    train_loss_hist, val_loss_hist, val_acc_hist, epochs_run = model.fit(\n",
    "        x_train, y_train, x_val, y_val, patience=4)\n",
    "    \n",
    "    # Evaluate on test set\n",
    "    test_acc, test_loss = model.evaluate(x_test, y_test)\n",
    "    print(f\"{model_name} CIFAR-10 Test accuracy: {test_acc.numpy()*100:.2f}%\")\n",
    "    \n",
    "    test_accuracies.append(test_acc.numpy())\n",
    "    train_losses.append(train_loss_hist)\n",
    "    val_losses.append(val_loss_hist)\n",
    "    val_accs.append(val_acc_hist)\n",
    "    epochs_list.append(epochs_run)\n",
    "        "
   ]
  },
  {
   "cell_type": "code",
   "execution_count": 7,
   "id": "51feb3",
   "metadata": {
    "collapsed": false,
    "jupyter": {}
   },
   "outputs": [],
   "source": [
    "def plot_loss_acc_x3(train_losses, val_losses, val_accs, epochs,\n",
    "                     net_names=['VGG15PlusPlus', 'VGG15', 'VGG15Plus', 'VGG4Plus']):\n",
    "    '''Makes a 3x1 plot of the training losses, val losses, and val accs for the 4 nets.\n",
    "\n",
    "    This complete function is provided to you. Feel free to modify if necessary.\n",
    "\n",
    "    Parameters:\n",
    "    -----------\n",
    "    train_losses: Python list of list. len(train_losses)=4.\n",
    "        List of the training loss histories of the 4 nets.\n",
    "    val_losses: Python list of list. len(val_losses)=4.\n",
    "        List of the val loss histories of the 4 nets.\n",
    "    val_accs: Python list of list. len(val_accs)=4.\n",
    "        List of the val accuracy histories of the 4 nets.\n",
    "    epochs: Python list of int. len(epochs)=4.\n",
    "        The number of epochs used to train each network.\n",
    "    net_names: Python list of str. len(epochs)=4.\n",
    "        The string name of the networks. The order must correspond to the order of the loss and acc lists.\n",
    "    '''\n",
    "    fig, axes = plt.subplots(ncols=1, nrows=3, sharex=True, figsize=(5, 12))\n",
    "\n",
    "    titles = ['CIFAR-10 Training Loss', 'CIFAR-10 Val Loss', 'CIFAR-10 Val Acc']\n",
    "    xlabels = 3*['Epoch']\n",
    "    data = [train_losses, val_losses, val_accs]\n",
    "\n",
    "    for i in range(len(titles)):\n",
    "        curr_hist = data[i]\n",
    "\n",
    "        for n in range(len(net_names)):\n",
    "            curr_data = np.copy(np.array(curr_hist[n]))\n",
    "\n",
    "            if 'acc' in titles[i].lower():\n",
    "                curr_data = 100*curr_data[:epochs[n]]\n",
    "\n",
    "            axes[i].plot(curr_data, label=net_names[n])\n",
    "\n",
    "        axes[i].set_xlabel(xlabels[i])\n",
    "        # axes[i].set_ylabel(ylabels[i])\n",
    "        axes[i].set_title(titles[i])\n",
    "\n",
    "        if i == 0:\n",
    "            axes[i].legend()\n",
    "\n",
    "    plt.tight_layout()\n",
    "    plt.show()\n",
    "\n"
   ]
  },
  {
   "cell_type": "code",
   "execution_count": 27,
   "id": "533815",
   "metadata": {
    "collapsed": false,
    "jupyter": {}
   },
   "outputs": [
    {
     "data": {
      "image/png": "[encoded data removed]",
      "text/plain": [
       "<Figure size 500x1200 with 3 Axes>"
      ]
     },
     "execution_count": 27,
     "metadata": {},
     "output_type": "execute_result"
    }
   ],
   "source": [
    "plot_loss_acc_x3(train_losses, val_losses, val_accs, epochs_list)"
   ]
  },
  {
   "cell_type": "code",
   "execution_count": 8,
   "id": "1471ac",
   "metadata": {
    "collapsed": false,
    "jupyter": {}
   },
   "outputs": [],
   "source": [
    "from vgg_nets import VGG15PlusPlus, VGG15, VGG15Plus, VGG4Plus"
   ]
  },
  {
   "cell_type": "code",
   "execution_count": 9,
   "id": "6a4c87",
   "metadata": {
    "collapsed": false,
    "jupyter": {}
   },
   "outputs": [],
   "source": [
    "from layers import Dense\n",
    "from network import DeepNetwork"
   ]
  },
  {
   "cell_type": "code",
   "execution_count": 30,
   "id": "888a82",
   "metadata": {
    "collapsed": false,
    "jupyter": {}
   },
   "outputs": [
    {
     "name": "stdout",
     "output_type": "stream",
     "text": [
      "---------------------------------------------------------------------------\n",
      "Dense layer output(TestDense) shape: [1, 3]\n",
      "---------------------------------------------------------------------------\n"
     ]
    },
    {
     "name": "stdout",
     "output_type": "stream",
     "text": [
      "Epoch 1/5000: train_loss = 1.1284, val_loss = 1.3332, val_acc = 0.5306, time = 1.18s\n",
      "Epoch 2/5000: train_loss = 0.9989, val_loss = 1.1339, val_acc = 0.6531, time = 0.01s\n",
      "Epoch 3/5000: train_loss = 1.0263, val_loss = 0.9318, val_acc = 0.6531, time = 0.01s\n",
      "Epoch 4/5000: train_loss = 0.6642, val_loss = 0.6593, val_acc = 0.6735, time = 0.01s\n",
      "Epoch 5/5000: train_loss = 0.6649, val_loss = 0.4455, val_acc = 0.9184, time = 0.01s\n",
      "Epoch 6/5000: train_loss = 0.4564, val_loss = 0.7123, val_acc = 0.6531, time = 0.01s\n",
      "Current lr = 0.1\n",
      "Updated lr = 0.05\n",
      "Epoch 7/5000: train_loss = 0.6611, val_loss = 0.4919, val_acc = 0.6735, time = 0.01s\n",
      "Epoch 8/5000: train_loss = 0.5820, val_loss = 0.4647, val_acc = 0.6735, time = 0.01s\n",
      "Epoch 9/5000: train_loss = 0.4344, val_loss = 0.4186, val_acc = 0.6531, time = 0.01s\n",
      "Epoch 10/5000: train_loss = 0.4593, val_loss = 0.4833, val_acc = 0.6531, time = 0.01s\n",
      "Epoch 11/5000: train_loss = 0.4117, val_loss = 0.3558, val_acc = 0.9592, time = 0.01s\n",
      "Epoch 12/5000: train_loss = 0.3715, val_loss = 0.3632, val_acc = 0.8776, time = 0.01s\n",
      "Epoch 13/5000: train_loss = 0.3267, val_loss = 0.3427, val_acc = 0.9592, time = 0.01s\n",
      "Epoch 14/5000: train_loss = 0.3448, val_loss = 0.3641, val_acc = 0.8163, time = 0.01s\n",
      "Current lr = 0.05\n",
      "Updated lr = 0.025\n",
      "Epoch 15/5000: train_loss = 0.3716, val_loss = 0.3672, val_acc = 0.7347, time = 0.01s\n",
      "Epoch 16/5000: train_loss = 0.3406, val_loss = 0.3308, val_acc = 0.9388, time = 0.01s\n",
      "Epoch 17/5000: train_loss = 0.3412, val_loss = 0.3230, val_acc = 0.9592, time = 0.01s\n",
      "Epoch 18/5000: train_loss = 0.3079, val_loss = 0.3181, val_acc = 0.9592, time = 0.01s\n"
     ]
    },
    {
     "name": "stdout",
     "output_type": "stream",
     "text": [
      "Epoch 19/5000: train_loss = 0.3324, val_loss = 0.3149, val_acc = 0.9592, time = 0.01s\n",
      "Epoch 20/5000: train_loss = 0.3348, val_loss = 0.3127, val_acc = 0.9592, time = 0.01s\n",
      "Epoch 21/5000: train_loss = 0.3233, val_loss = 0.3077, val_acc = 0.9796, time = 0.01s\n",
      "Epoch 22/5000: train_loss = 0.3164, val_loss = 0.3048, val_acc = 0.9796, time = 0.01s\n",
      "Epoch 23/5000: train_loss = 0.3176, val_loss = 0.3080, val_acc = 0.9388, time = 0.01s\n",
      "Current lr = 0.025\n",
      "Updated lr = 0.0125\n",
      "Epoch 24/5000: train_loss = 0.3431, val_loss = 0.3126, val_acc = 0.9184, time = 0.01s\n",
      "Epoch 25/5000: train_loss = 0.3518, val_loss = 0.2993, val_acc = 0.9592, time = 0.01s\n",
      "Epoch 26/5000: train_loss = 0.3142, val_loss = 0.2961, val_acc = 0.9796, time = 0.01s\n",
      "Epoch 27/5000: train_loss = 0.3488, val_loss = 0.2946, val_acc = 0.9796, time = 0.01s\n",
      "Epoch 28/5000: train_loss = 0.2859, val_loss = 0.2924, val_acc = 0.9796, time = 0.01s\n",
      "Epoch 29/5000: train_loss = 0.2899, val_loss = 0.2950, val_acc = 0.9592, time = 0.01s\n",
      "Current lr = 0.0125\n",
      "Updated lr = 0.00625\n",
      "Epoch 30/5000: train_loss = 0.2959, val_loss = 0.3114, val_acc = 0.8776, time = 0.01s\n",
      "Epoch 31/5000: train_loss = 0.3128, val_loss = 0.3165, val_acc = 0.8776, time = 0.01s\n",
      "Epoch 32/5000: train_loss = 0.3464, val_loss = 0.3089, val_acc = 0.8980, time = 0.01s\n",
      "Epoch 33/5000: train_loss = 0.3333, val_loss = 0.2951, val_acc = 0.9592, time = 0.01s\n",
      "Epoch 34/5000: train_loss = 0.2951, val_loss = 0.2887, val_acc = 0.9592, time = 0.01s\n",
      "Epoch 35/5000: train_loss = 0.2835, val_loss = 0.2862, val_acc = 0.9592, time = 0.01s\n",
      "Epoch 36/5000: train_loss = 0.3174, val_loss = 0.2858, val_acc = 0.9592, time = 0.01s\n"
     ]
    },
    {
     "name": "stdout",
     "output_type": "stream",
     "text": [
      "Epoch 37/5000: train_loss = 0.2910, val_loss = 0.2875, val_acc = 0.9592, time = 0.01s\n",
      "Epoch 38/5000: train_loss = 0.2989, val_loss = 0.2936, val_acc = 0.9388, time = 0.01s\n",
      "Epoch 39/5000: train_loss = 0.2899, val_loss = 0.2909, val_acc = 0.9592, time = 0.01s\n",
      "Epoch 40/5000: train_loss = 0.2875, val_loss = 0.2856, val_acc = 0.9592, time = 0.01s\n",
      "Epoch 41/5000: train_loss = 0.2871, val_loss = 0.2816, val_acc = 0.9592, time = 0.01s\n",
      "Epoch 42/5000: train_loss = 0.2920, val_loss = 0.2800, val_acc = 0.9796, time = 0.01s\n",
      "Epoch 43/5000: train_loss = 0.3063, val_loss = 0.2797, val_acc = 0.9796, time = 0.01s\n",
      "Epoch 44/5000: train_loss = 0.2493, val_loss = 0.2788, val_acc = 0.9796, time = 0.01s\n",
      "Epoch 45/5000: train_loss = 0.3315, val_loss = 0.2775, val_acc = 0.9796, time = 0.01s\n",
      "Epoch 46/5000: train_loss = 0.3104, val_loss = 0.2774, val_acc = 0.9592, time = 0.01s\n",
      "Epoch 47/5000: train_loss = 0.2875, val_loss = 0.2794, val_acc = 0.9592, time = 0.01s\n",
      "Epoch 48/5000: train_loss = 0.2937, val_loss = 0.2836, val_acc = 0.9592, time = 0.01s\n",
      "Epoch 49/5000: train_loss = 0.2845, val_loss = 0.2854, val_acc = 0.9388, time = 0.01s\n",
      "Epoch 50/5000: train_loss = 0.2832, val_loss = 0.2868, val_acc = 0.9388, time = 0.01s\n",
      "Epoch 51/5000: train_loss = 0.2921, val_loss = 0.2861, val_acc = 0.9388, time = 0.01s\n",
      "Early stopping triggered at epoch 52\n",
      "Finished training after 51 epochs!\n",
      "---------------------------------------------------------------------------\n",
      "Iris test ended after 51 epochs with final val loss/acc of 0.28/0.96\n",
      "---------------------------------------------------------------------------\n"
     ]
    }
   ],
   "source": [
    "# Quickly make a mock network for testing\n",
    "class SoftmaxNet(DeepNetwork):\n",
    "    def __init__(self, input_feats_shape, C, reg=0):\n",
    "        super().__init__(input_feats_shape, reg)\n",
    "        self.output_layer = Dense('TestDense', units=C, activation='softmax', prev_layer_or_block=None)\n",
    "\n",
    "    def __call__(self, x):\n",
    "        return self.output_layer(x)\n",
    "\n",
    "# Load in Iris train/validation sets\n",
    "train_samps = tf.constant(np.load('data/iris/iris_train_samps.npy'), dtype=tf.float32)\n",
    "train_labels = tf.constant(np.load('data/iris/iris_train_labels.npy'), dtype=tf.int32)\n",
    "val_samps = tf.constant(np.load('data/iris/iris_val_samps.npy'), dtype=tf.float32)\n",
    "val_labels = tf.constant(np.load('data/iris/iris_val_labels.npy'), dtype=tf.int32)\n",
    "\n",
    "# Set some vars\n",
    "C = 3\n",
    "M = train_samps.shape[1]\n",
    "mini_batch_sz = 25\n",
    "lr = 1e-1\n",
    "max_epochs = 5000\n",
    "patience = 7\n",
    "val_every = 1  # how often (in epochs) we check the val loss/acc/early stopping\n",
    "\n",
    "# Create our test net\n",
    "tf.random.set_seed(0)\n",
    "slnet = SoftmaxNet((M,), C)\n",
    "slnet.compile(lr=lr)\n",
    "\n",
    "_, val_loss_hist, val_acc_hist, e = slnet.fit(train_samps, train_labels, val_samps, val_labels,\n",
    "                                              batch_size=mini_batch_sz,\n",
    "                                              max_epochs=max_epochs,\n",
    "                                              patience=patience,\n",
    "                                              val_every=val_every,\n",
    "                                              lr_patience=3,\n",
    "                                              lr_max_decays=4)\n",
    "\n",
    "print(75*'-')\n",
    "print(f'Iris test ended after {e} epochs with final val loss/acc of {val_loss_hist[-1]:.2f}/{val_acc_hist[-1]:.2f}')\n",
    "print(75*'-')"
   ]
  },
  {
   "cell_type": "code",
   "execution_count": 31,
   "id": "60b0e7",
   "metadata": {
    "collapsed": false,
    "jupyter": {}
   },
   "outputs": [
    {
     "name": "stdout",
     "output_type": "stream",
     "text": [
      "---------------------------------------------------------------------------\n",
      "Dense layer output(denseout) shape: [1, 10]\n",
      "Dropout layer output(dropout1) shape: [1, 128]\n",
      "Dense layer output(dense1) shape: [1, 128]\n",
      "Flatten layer output(flatten1) shape: [1, 16384]\n",
      "MaxPool2D layer output(pool1) shape: [1, 16, 16, 64]\n",
      "Conv2D layer output(conv2) shape: [1, 32, 32, 64]\n",
      "Conv2D layer output(conv1) shape: [1, 32, 32, 64]\n",
      "---------------------------------------------------------------------------\n"
     ]
    },
    {
     "name": "stdout",
     "output_type": "stream",
     "text": [
      "Epoch 1/10000: train_loss = 1.3016, val_loss = 1.0447, val_acc = 0.6302, time = 11.91s\n"
     ]
    },
    {
     "name": "stdout",
     "output_type": "stream",
     "text": [
      "Epoch 2/10000: train_loss = 0.9291, val_loss = 0.9835, val_acc = 0.6663, time = 7.74s\n"
     ]
    },
    {
     "name": "stdout",
     "output_type": "stream",
     "text": [
      "Epoch 3/10000: train_loss = 0.7913, val_loss = 0.9771, val_acc = 0.6609, time = 7.76s\n"
     ]
    },
    {
     "name": "stdout",
     "output_type": "stream",
     "text": [
      "Epoch 4/10000: train_loss = 0.6775, val_loss = 0.9310, val_acc = 0.6859, time = 7.78s\n"
     ]
    },
    {
     "name": "stdout",
     "output_type": "stream",
     "text": [
      "Epoch 5/10000: train_loss = 0.5856, val_loss = 0.8714, val_acc = 0.7069, time = 7.77s\n"
     ]
    },
    {
     "name": "stdout",
     "output_type": "stream",
     "text": [
      "Epoch 6/10000: train_loss = 0.5105, val_loss = 0.8888, val_acc = 0.7021, time = 7.77s\n"
     ]
    },
    {
     "name": "stdout",
     "output_type": "stream",
     "text": [
      "Epoch 7/10000: train_loss = 0.4399, val_loss = 0.9057, val_acc = 0.6973, time = 7.77s\n"
     ]
    },
    {
     "name": "stdout",
     "output_type": "stream",
     "text": [
      "Current lr = 0.001\n",
      "Updated lr = 0.0005\n",
      "Epoch 8/10000: train_loss = 0.3750, val_loss = 0.9378, val_acc = 0.7091, time = 7.73s\n"
     ]
    },
    {
     "name": "stdout",
     "output_type": "stream",
     "text": [
      "Epoch 9/10000: train_loss = 0.2986, val_loss = 0.8797, val_acc = 0.7282, time = 7.73s\n"
     ]
    },
    {
     "name": "stdout",
     "output_type": "stream",
     "text": [
      "Epoch 10/10000: train_loss = 0.2475, val_loss = 0.8835, val_acc = 0.7306, time = 7.71s\n"
     ]
    },
    {
     "name": "stdout",
     "output_type": "stream",
     "text": [
      "Epoch 11/10000: train_loss = 0.2088, val_loss = 0.9368, val_acc = 0.7296, time = 7.72s\n"
     ]
    },
    {
     "name": "stdout",
     "output_type": "stream",
     "text": [
      "Epoch 12/10000: train_loss = 0.1829, val_loss = 0.9863, val_acc = 0.7143, time = 7.75s\n"
     ]
    },
    {
     "name": "stdout",
     "output_type": "stream",
     "text": [
      "Current lr = 0.0005\n",
      "Updated lr = 0.00025\n",
      "Epoch 13/10000: train_loss = 0.1681, val_loss = 0.9944, val_acc = 0.7159, time = 7.71s\n"
     ]
    },
    {
     "name": "stdout",
     "output_type": "stream",
     "text": [
      "Epoch 14/10000: train_loss = 0.1354, val_loss = 0.9721, val_acc = 0.7260, time = 7.74s\n"
     ]
    },
    {
     "name": "stdout",
     "output_type": "stream",
     "text": [
      "Epoch 15/10000: train_loss = 0.1203, val_loss = 0.9833, val_acc = 0.7284, time = 7.72s\n"
     ]
    },
    {
     "name": "stdout",
     "output_type": "stream",
     "text": [
      "Epoch 16/10000: train_loss = 0.1078, val_loss = 1.0170, val_acc = 0.7282, time = 7.71s\n"
     ]
    },
    {
     "name": "stdout",
     "output_type": "stream",
     "text": [
      "Epoch 17/10000: train_loss = 0.0979, val_loss = 1.0478, val_acc = 0.7246, time = 7.72s\n"
     ]
    },
    {
     "name": "stdout",
     "output_type": "stream",
     "text": [
      "Current lr = 0.00025\n",
      "Updated lr = 0.000125\n",
      "Epoch 18/10000: train_loss = 0.0898, val_loss = 1.0735, val_acc = 0.7282, time = 7.76s\n"
     ]
    },
    {
     "name": "stdout",
     "output_type": "stream",
     "text": [
      "Early stopping triggered at epoch 19\n",
      "Finished training after 18 epochs!\n"
     ]
    },
    {
     "name": "stdout",
     "output_type": "stream",
     "text": [
      "VGG4Plus CIFAR-10 Test accuracy: 72.71%\n",
      "---------------------------------------------------------------------------\n",
      "Dense layer output(denseout) shape: [1, 10]\n",
      "block6:\n",
      "\tDropout layer output(block6/dropout_0) shape: [1, 512]\n",
      "\tDense layer output(block6/dense_0) shape: [1, 512]\n",
      "Flatten layer output(flatten1) shape: [1, 512]\n",
      "block5:\n",
      "\tMaxPool2D layer output(block5/pool) shape: [1, 1, 1, 512]\n",
      "\tConv2D layer output(block5/conv_2) shape: [1, 2, 2, 512]\n",
      "\tConv2D layer output(block5/conv_1) shape: [1, 2, 2, 512]\n",
      "\tConv2D layer output(block5/conv_0) shape: [1, 2, 2, 512]\n",
      "block4:\n",
      "\tMaxPool2D layer output(block4/pool) shape: [1, 2, 2, 512]\n",
      "\tConv2D layer output(block4/conv_2) shape: [1, 4, 4, 512]\n",
      "\tConv2D layer output(block4/conv_1) shape: [1, 4, 4, 512]\n",
      "\tConv2D layer output(block4/conv_0) shape: [1, 4, 4, 512]\n",
      "block3:\n",
      "\tMaxPool2D layer output(block3/pool) shape: [1, 4, 4, 256]\n",
      "\tConv2D layer output(block3/conv_2) shape: [1, 8, 8, 256]\n",
      "\tConv2D layer output(block3/conv_1) shape: [1, 8, 8, 256]\n",
      "\tConv2D layer output(block3/conv_0) shape: [1, 8, 8, 256]\n",
      "block2:\n",
      "\tMaxPool2D layer output(block2/pool) shape: [1, 8, 8, 128]\n",
      "\tConv2D layer output(block2/conv_1) shape: [1, 16, 16, 128]\n",
      "\tConv2D layer output(block2/conv_0) shape: [1, 16, 16, 128]\n",
      "block1:\n",
      "\tMaxPool2D layer output(block1/pool) shape: [1, 16, 16, 64]\n",
      "\tConv2D layer output(block1/conv_1) shape: [1, 32, 32, 64]\n",
      "\tConv2D layer output(block1/conv_0) shape: [1, 32, 32, 64]\n",
      "---------------------------------------------------------------------------\n"
     ]
    },
    {
     "name": "stdout",
     "output_type": "stream",
     "text": [
      "Epoch 1/10000: train_loss = 1.9855, val_loss = 1.7107, val_acc = 0.3291, time = 13.54s\n"
     ]
    },
    {
     "name": "stdout",
     "output_type": "stream",
     "text": [
      "Epoch 2/10000: train_loss = 1.5510, val_loss = 1.2905, val_acc = 0.5128, time = 8.20s\n"
     ]
    },
    {
     "name": "stdout",
     "output_type": "stream",
     "text": [
      "Epoch 3/10000: train_loss = 1.1885, val_loss = 1.0709, val_acc = 0.6100, time = 8.22s\n"
     ]
    },
    {
     "name": "stdout",
     "output_type": "stream",
     "text": [
      "Epoch 4/10000: train_loss = 0.9651, val_loss = 0.9409, val_acc = 0.6843, time = 8.23s\n"
     ]
    },
    {
     "name": "stdout",
     "output_type": "stream",
     "text": [
      "Epoch 5/10000: train_loss = 0.8315, val_loss = 0.8989, val_acc = 0.7043, time = 8.21s\n"
     ]
    },
    {
     "name": "stdout",
     "output_type": "stream",
     "text": [
      "Epoch 6/10000: train_loss = 0.7353, val_loss = 0.8091, val_acc = 0.7370, time = 8.17s\n"
     ]
    },
    {
     "name": "stdout",
     "output_type": "stream",
     "text": [
      "Epoch 7/10000: train_loss = 0.6673, val_loss = 0.7124, val_acc = 0.7724, time = 8.17s\n"
     ]
    },
    {
     "name": "stdout",
     "output_type": "stream",
     "text": [
      "Epoch 8/10000: train_loss = 0.6048, val_loss = 0.7769, val_acc = 0.7602, time = 8.17s\n"
     ]
    },
    {
     "name": "stdout",
     "output_type": "stream",
     "text": [
      "Epoch 9/10000: train_loss = 0.5559, val_loss = 0.7434, val_acc = 0.7578, time = 8.19s\n"
     ]
    },
    {
     "name": "stdout",
     "output_type": "stream",
     "text": [
      "Epoch 10/10000: train_loss = 0.5406, val_loss = 0.6982, val_acc = 0.7752, time = 8.17s\n"
     ]
    },
    {
     "name": "stdout",
     "output_type": "stream",
     "text": [
      "Epoch 11/10000: train_loss = 0.5034, val_loss = 0.6958, val_acc = 0.7863, time = 8.17s\n"
     ]
    },
    {
     "name": "stdout",
     "output_type": "stream",
     "text": [
      "Epoch 12/10000: train_loss = 0.4718, val_loss = 0.6294, val_acc = 0.8019, time = 8.17s\n"
     ]
    },
    {
     "name": "stdout",
     "output_type": "stream",
     "text": [
      "Epoch 13/10000: train_loss = 0.4576, val_loss = 0.7146, val_acc = 0.7744, time = 8.17s\n"
     ]
    },
    {
     "name": "stdout",
     "output_type": "stream",
     "text": [
      "Epoch 14/10000: train_loss = 0.4635, val_loss = 0.6388, val_acc = 0.8047, time = 8.19s\n"
     ]
    },
    {
     "name": "stdout",
     "output_type": "stream",
     "text": [
      "Epoch 15/10000: train_loss = 0.4403, val_loss = 0.6228, val_acc = 0.8083, time = 8.21s\n"
     ]
    },
    {
     "name": "stdout",
     "output_type": "stream",
     "text": [
      "Epoch 16/10000: train_loss = 0.4282, val_loss = 0.7126, val_acc = 0.7812, time = 8.22s\n"
     ]
    },
    {
     "name": "stdout",
     "output_type": "stream",
     "text": [
      "Epoch 17/10000: train_loss = 0.4012, val_loss = 0.6300, val_acc = 0.8101, time = 8.20s\n"
     ]
    },
    {
     "name": "stdout",
     "output_type": "stream",
     "text": [
      "Current lr = 0.001\n",
      "Updated lr = 0.0005\n",
      "Epoch 18/10000: train_loss = 0.4133, val_loss = 0.6545, val_acc = 0.7989, time = 8.20s\n"
     ]
    },
    {
     "name": "stdout",
     "output_type": "stream",
     "text": [
      "Epoch 19/10000: train_loss = 0.2441, val_loss = 0.5834, val_acc = 0.8299, time = 8.20s\n"
     ]
    },
    {
     "name": "stdout",
     "output_type": "stream",
     "text": [
      "Epoch 20/10000: train_loss = 0.2074, val_loss = 0.5911, val_acc = 0.8349, time = 8.21s\n"
     ]
    },
    {
     "name": "stdout",
     "output_type": "stream",
     "text": [
      "Epoch 21/10000: train_loss = 0.2055, val_loss = 0.5897, val_acc = 0.8341, time = 8.20s\n"
     ]
    },
    {
     "name": "stdout",
     "output_type": "stream",
     "text": [
      "Epoch 22/10000: train_loss = 0.1857, val_loss = 0.5972, val_acc = 0.8297, time = 8.22s\n"
     ]
    },
    {
     "name": "stdout",
     "output_type": "stream",
     "text": [
      "Epoch 23/10000: train_loss = 0.1915, val_loss = 0.6249, val_acc = 0.8293, time = 8.21s\n"
     ]
    },
    {
     "name": "stdout",
     "output_type": "stream",
     "text": [
      "Current lr = 0.0005\n",
      "Updated lr = 0.00025\n",
      "Epoch 24/10000: train_loss = 0.1866, val_loss = 0.6563, val_acc = 0.8215, time = 8.20s\n"
     ]
    },
    {
     "name": "stdout",
     "output_type": "stream",
     "text": [
      "Epoch 25/10000: train_loss = 0.0798, val_loss = 0.6019, val_acc = 0.8458, time = 8.20s\n"
     ]
    },
    {
     "name": "stdout",
     "output_type": "stream",
     "text": [
      "Epoch 26/10000: train_loss = 0.0616, val_loss = 0.6246, val_acc = 0.8446, time = 8.21s\n"
     ]
    },
    {
     "name": "stdout",
     "output_type": "stream",
     "text": [
      "Epoch 27/10000: train_loss = 0.0597, val_loss = 0.6404, val_acc = 0.8351, time = 8.21s\n"
     ]
    },
    {
     "name": "stdout",
     "output_type": "stream",
     "text": [
      "Epoch 28/10000: train_loss = 0.0734, val_loss = 0.7178, val_acc = 0.8305, time = 8.21s\n"
     ]
    },
    {
     "name": "stdout",
     "output_type": "stream",
     "text": [
      "Current lr = 0.00025\n",
      "Updated lr = 0.000125\n",
      "Epoch 29/10000: train_loss = 0.0688, val_loss = 0.6911, val_acc = 0.8389, time = 8.21s\n"
     ]
    },
    {
     "name": "stdout",
     "output_type": "stream",
     "text": [
      "Epoch 30/10000: train_loss = 0.0243, val_loss = 0.7141, val_acc = 0.8562, time = 8.22s\n"
     ]
    },
    {
     "name": "stdout",
     "output_type": "stream",
     "text": [
      "Epoch 31/10000: train_loss = 0.0147, val_loss = 0.7168, val_acc = 0.8568, time = 8.25s\n"
     ]
    },
    {
     "name": "stdout",
     "output_type": "stream",
     "text": [
      "Epoch 32/10000: train_loss = 0.0152, val_loss = 0.7351, val_acc = 0.8462, time = 8.22s\n"
     ]
    },
    {
     "name": "stdout",
     "output_type": "stream",
     "text": [
      "Early stopping triggered at epoch 33\n",
      "Finished training after 32 epochs!\n"
     ]
    },
    {
     "name": "stdout",
     "output_type": "stream",
     "text": [
      "VGG15 CIFAR-10 Test accuracy: 84.34%\n"
     ]
    },
    {
     "name": "stdout",
     "output_type": "stream",
     "text": [
      "---------------------------------------------------------------------------\n",
      "Dense layer output(denseout) shape: [1, 10]\n",
      "block6:\n",
      "\tDropout layer output(block6/dropout_0) shape: [1, 512]\n",
      "\tDense layer output(block6/dense_0) shape: [1, 512]\n",
      "Flatten layer output(flatten1) shape: [1, 512]\n",
      "block5:\n",
      "\tMaxPool2D layer output(block5/pool) shape: [1, 1, 1, 512]\n",
      "\tConv2D layer output(block5/conv_2) shape: [1, 2, 2, 512]\n",
      "\tConv2D layer output(block5/conv_1) shape: [1, 2, 2, 512]\n",
      "\tConv2D layer output(block5/conv_0) shape: [1, 2, 2, 512]\n",
      "block4:\n",
      "\tMaxPool2D layer output(block4/pool) shape: [1, 2, 2, 512]\n",
      "\tConv2D layer output(block4/conv_2) shape: [1, 4, 4, 512]\n",
      "\tConv2D layer output(block4/conv_1) shape: [1, 4, 4, 512]\n",
      "\tConv2D layer output(block4/conv_0) shape: [1, 4, 4, 512]\n",
      "block3:\n",
      "\tMaxPool2D layer output(block3/pool) shape: [1, 4, 4, 256]\n",
      "\tConv2D layer output(block3/conv_2) shape: [1, 8, 8, 256]\n",
      "\tConv2D layer output(block3/conv_1) shape: [1, 8, 8, 256]\n",
      "\tConv2D layer output(block3/conv_0) shape: [1, 8, 8, 256]\n",
      "block2:\n",
      "\tMaxPool2D layer output(block2/pool) shape: [1, 8, 8, 128]\n",
      "\tConv2D layer output(block2/conv_1) shape: [1, 16, 16, 128]\n",
      "\tConv2D layer output(block2/conv_0) shape: [1, 16, 16, 128]\n",
      "block1:\n",
      "\tMaxPool2D layer output(block1/pool) shape: [1, 16, 16, 64]\n",
      "\tConv2D layer output(block1/conv_1) shape: [1, 32, 32, 64]\n",
      "\tConv2D layer output(block1/conv_0) shape: [1, 32, 32, 64]\n",
      "---------------------------------------------------------------------------\n"
     ]
    },
    {
     "name": "stdout",
     "output_type": "stream",
     "text": [
      "Epoch 1/10000: train_loss = 1.3680, val_loss = 2.1652, val_acc = 0.3520, time = 32.05s\n"
     ]
    },
    {
     "name": "stdout",
     "output_type": "stream",
     "text": [
      "Epoch 2/10000: train_loss = 0.8390, val_loss = 1.7959, val_acc = 0.4403, time = 17.42s\n"
     ]
    },
    {
     "name": "stdout",
     "output_type": "stream",
     "text": [
      "Epoch 3/10000: train_loss = 0.6640, val_loss = 1.2526, val_acc = 0.5673, time = 17.41s\n"
     ]
    },
    {
     "name": "stdout",
     "output_type": "stream",
     "text": [
      "Epoch 4/10000: train_loss = 0.5643, val_loss = 1.2822, val_acc = 0.5773, time = 17.32s\n"
     ]
    },
    {
     "name": "stdout",
     "output_type": "stream",
     "text": [
      "Epoch 5/10000: train_loss = 0.4867, val_loss = 1.0404, val_acc = 0.6629, time = 17.21s\n"
     ]
    },
    {
     "name": "stdout",
     "output_type": "stream",
     "text": [
      "Epoch 6/10000: train_loss = 0.4430, val_loss = 1.0637, val_acc = 0.6659, time = 17.19s\n"
     ]
    },
    {
     "name": "stdout",
     "output_type": "stream",
     "text": [
      "Epoch 7/10000: train_loss = 0.4021, val_loss = 1.0413, val_acc = 0.6398, time = 17.19s\n"
     ]
    },
    {
     "name": "stdout",
     "output_type": "stream",
     "text": [
      "Current lr = 0.001\n",
      "Updated lr = 0.0005\n",
      "Epoch 8/10000: train_loss = 0.3744, val_loss = 1.4348, val_acc = 0.5847, time = 17.22s\n"
     ]
    },
    {
     "name": "stdout",
     "output_type": "stream",
     "text": [
      "Epoch 9/10000: train_loss = 0.2164, val_loss = 0.7425, val_acc = 0.7692, time = 17.24s\n"
     ]
    },
    {
     "name": "stdout",
     "output_type": "stream",
     "text": [
      "Epoch 10/10000: train_loss = 0.1849, val_loss = 0.6366, val_acc = 0.8019, time = 17.21s\n"
     ]
    },
    {
     "name": "stdout",
     "output_type": "stream",
     "text": [
      "Epoch 11/10000: train_loss = 0.1770, val_loss = 0.8430, val_acc = 0.7498, time = 17.18s\n"
     ]
    },
    {
     "name": "stdout",
     "output_type": "stream",
     "text": [
      "Epoch 12/10000: train_loss = 0.1701, val_loss = 0.6601, val_acc = 0.7953, time = 17.20s\n"
     ]
    },
    {
     "name": "stdout",
     "output_type": "stream",
     "text": [
      "Current lr = 0.0005\n",
      "Updated lr = 0.00025\n",
      "Epoch 13/10000: train_loss = 0.1577, val_loss = 0.8658, val_acc = 0.7556, time = 17.18s\n"
     ]
    },
    {
     "name": "stdout",
     "output_type": "stream",
     "text": [
      "Epoch 14/10000: train_loss = 0.0729, val_loss = 0.5460, val_acc = 0.8504, time = 17.20s\n"
     ]
    },
    {
     "name": "stdout",
     "output_type": "stream",
     "text": [
      "Epoch 15/10000: train_loss = 0.0530, val_loss = 0.6522, val_acc = 0.8313, time = 17.19s\n"
     ]
    },
    {
     "name": "stdout",
     "output_type": "stream",
     "text": [
      "Epoch 16/10000: train_loss = 0.0566, val_loss = 0.5440, val_acc = 0.8540, time = 17.18s\n"
     ]
    },
    {
     "name": "stdout",
     "output_type": "stream",
     "text": [
      "Epoch 17/10000: train_loss = 0.0581, val_loss = 0.7233, val_acc = 0.8175, time = 17.19s\n"
     ]
    },
    {
     "name": "stdout",
     "output_type": "stream",
     "text": [
      "Epoch 18/10000: train_loss = 0.0629, val_loss = 0.5766, val_acc = 0.8470, time = 17.18s\n"
     ]
    },
    {
     "name": "stdout",
     "output_type": "stream",
     "text": [
      "Current lr = 0.00025\n",
      "Updated lr = 0.000125\n",
      "Epoch 19/10000: train_loss = 0.0560, val_loss = 0.6736, val_acc = 0.8297, time = 17.21s\n"
     ]
    },
    {
     "name": "stdout",
     "output_type": "stream",
     "text": [
      "Epoch 20/10000: train_loss = 0.0236, val_loss = 0.5401, val_acc = 0.8740, time = 17.17s\n"
     ]
    },
    {
     "name": "stdout",
     "output_type": "stream",
     "text": [
      "Epoch 21/10000: train_loss = 0.0136, val_loss = 0.5529, val_acc = 0.8728, time = 17.17s\n"
     ]
    },
    {
     "name": "stdout",
     "output_type": "stream",
     "text": [
      "Epoch 22/10000: train_loss = 0.0133, val_loss = 0.6185, val_acc = 0.8678, time = 17.20s\n"
     ]
    },
    {
     "name": "stdout",
     "output_type": "stream",
     "text": [
      "Epoch 23/10000: train_loss = 0.0167, val_loss = 0.7165, val_acc = 0.8530, time = 17.19s\n"
     ]
    },
    {
     "name": "stdout",
     "output_type": "stream",
     "text": [
      "Current lr = 0.000125\n",
      "Updated lr = 6.25e-05\n",
      "Epoch 24/10000: train_loss = 0.0256, val_loss = 0.6519, val_acc = 0.8604, time = 17.17s\n"
     ]
    },
    {
     "name": "stdout",
     "output_type": "stream",
     "text": [
      "Epoch 25/10000: train_loss = 0.0082, val_loss = 0.5767, val_acc = 0.8780, time = 17.18s\n"
     ]
    },
    {
     "name": "stdout",
     "output_type": "stream",
     "text": [
      "Epoch 26/10000: train_loss = 0.0053, val_loss = 0.5803, val_acc = 0.8806, time = 17.19s\n"
     ]
    },
    {
     "name": "stdout",
     "output_type": "stream",
     "text": [
      "Epoch 27/10000: train_loss = 0.0041, val_loss = 0.5993, val_acc = 0.8796, time = 17.22s\n"
     ]
    },
    {
     "name": "stdout",
     "output_type": "stream",
     "text": [
      "Epoch 28/10000: train_loss = 0.0039, val_loss = 0.6484, val_acc = 0.8756, time = 17.18s\n"
     ]
    },
    {
     "name": "stdout",
     "output_type": "stream",
     "text": [
      "Current lr = 6.25e-05\n",
      "Updated lr = 3.125e-05\n",
      "Epoch 29/10000: train_loss = 0.0050, val_loss = 0.6482, val_acc = 0.8794, time = 17.17s\n"
     ]
    },
    {
     "name": "stdout",
     "output_type": "stream",
     "text": [
      "Epoch 30/10000: train_loss = 0.0036, val_loss = 0.6584, val_acc = 0.8764, time = 17.21s\n"
     ]
    },
    {
     "name": "stdout",
     "output_type": "stream",
     "text": [
      "Epoch 31/10000: train_loss = 0.0028, val_loss = 0.6519, val_acc = 0.8808, time = 17.18s\n"
     ]
    },
    {
     "name": "stdout",
     "output_type": "stream",
     "text": [
      "Epoch 32/10000: train_loss = 0.0024, val_loss = 0.6488, val_acc = 0.8810, time = 17.21s\n"
     ]
    },
    {
     "name": "stdout",
     "output_type": "stream",
     "text": [
      "Epoch 33/10000: train_loss = 0.0016, val_loss = 0.6622, val_acc = 0.8818, time = 17.19s\n"
     ]
    },
    {
     "name": "stdout",
     "output_type": "stream",
     "text": [
      "Early stopping triggered at epoch 34\n",
      "Finished training after 33 epochs!\n"
     ]
    },
    {
     "name": "stdout",
     "output_type": "stream",
     "text": [
      "VGG15Plus CIFAR-10 Test accuracy: 87.40%\n"
     ]
    },
    {
     "name": "stdout",
     "output_type": "stream",
     "text": [
      "---------------------------------------------------------------------------\n",
      "Dense layer output(denseout) shape: [1, 10]\n",
      "block6:\n",
      "\tDropout layer output(block6/dropout_0) shape: [1, 512]\n",
      "\tDense layer output(block6/dense_0) shape: [1, 512]\n",
      "Flatten layer output(flatten1) shape: [1, 512]\n",
      "block5:\n",
      "\tMaxPool2D layer output(block5/pool) shape: [1, 1, 1, 512]\n",
      "\tConv2D layer output(block5/conv_2) shape: [1, 2, 2, 512]\n",
      "\tConv2D layer output(block5/conv_1) shape: [1, 2, 2, 512]\n",
      "\tConv2D layer output(block5/conv_0) shape: [1, 2, 2, 512]\n",
      "block4:\n",
      "\tMaxPool2D layer output(block4/pool) shape: [1, 2, 2, 512]\n",
      "\tConv2D layer output(block4/conv_2) shape: [1, 4, 4, 512]\n",
      "\tConv2D layer output(block4/conv_1) shape: [1, 4, 4, 512]\n",
      "\tConv2D layer output(block4/conv_0) shape: [1, 4, 4, 512]\n",
      "block3:\n",
      "\tMaxPool2D layer output(block3/pool) shape: [1, 4, 4, 256]\n",
      "\tConv2D layer output(block3/conv_2) shape: [1, 8, 8, 256]\n",
      "\tConv2D layer output(block3/conv_1) shape: [1, 8, 8, 256]\n",
      "\tConv2D layer output(block3/conv_0) shape: [1, 8, 8, 256]\n",
      "block2:\n",
      "\tMaxPool2D layer output(block2/pool) shape: [1, 8, 8, 128]\n",
      "\tConv2D layer output(block2/conv_1) shape: [1, 16, 16, 128]\n",
      "\tConv2D layer output(block2/conv_0) shape: [1, 16, 16, 128]\n",
      "block1:\n",
      "\tMaxPool2D layer output(block1/pool) shape: [1, 16, 16, 64]\n",
      "\tConv2D layer output(block1/conv_1) shape: [1, 32, 32, 64]\n",
      "\tConv2D layer output(block1/conv_0) shape: [1, 32, 32, 64]\n",
      "---------------------------------------------------------------------------\n"
     ]
    },
    {
     "name": "stdout",
     "output_type": "stream",
     "text": [
      "Epoch 1/10000: train_loss = 1.3910, val_loss = 2.5921, val_acc = 0.3149, time = 31.48s\n"
     ]
    },
    {
     "name": "stdout",
     "output_type": "stream",
     "text": [
      "Epoch 2/10000: train_loss = 0.8396, val_loss = 1.9100, val_acc = 0.4319, time = 17.22s\n"
     ]
    },
    {
     "name": "stdout",
     "output_type": "stream",
     "text": [
      "Epoch 3/10000: train_loss = 0.6645, val_loss = 1.1993, val_acc = 0.5909, time = 17.25s\n"
     ]
    },
    {
     "name": "stdout",
     "output_type": "stream",
     "text": [
      "Epoch 4/10000: train_loss = 0.5617, val_loss = 1.0987, val_acc = 0.6304, time = 17.14s\n"
     ]
    },
    {
     "name": "stdout",
     "output_type": "stream",
     "text": [
      "Epoch 5/10000: train_loss = 0.4863, val_loss = 1.5218, val_acc = 0.5198, time = 17.09s\n"
     ]
    },
    {
     "name": "stdout",
     "output_type": "stream",
     "text": [
      "Epoch 6/10000: train_loss = 0.4458, val_loss = 0.8550, val_acc = 0.7244, time = 17.07s\n"
     ]
    },
    {
     "name": "stdout",
     "output_type": "stream",
     "text": [
      "Epoch 7/10000: train_loss = 0.4044, val_loss = 0.8882, val_acc = 0.7206, time = 17.07s\n"
     ]
    },
    {
     "name": "stdout",
     "output_type": "stream",
     "text": [
      "Epoch 8/10000: train_loss = 0.3692, val_loss = 1.2436, val_acc = 0.6232, time = 17.12s\n"
     ]
    },
    {
     "name": "stdout",
     "output_type": "stream",
     "text": [
      "Current lr = 0.001\n",
      "Updated lr = 0.0005\n",
      "Epoch 9/10000: train_loss = 0.3493, val_loss = 1.5264, val_acc = 0.5449, time = 17.12s\n"
     ]
    },
    {
     "name": "stdout",
     "output_type": "stream",
     "text": [
      "Epoch 10/10000: train_loss = 0.2034, val_loss = 0.5753, val_acc = 0.8205, time = 17.10s\n"
     ]
    },
    {
     "name": "stdout",
     "output_type": "stream",
     "text": [
      "Epoch 11/10000: train_loss = 0.1700, val_loss = 0.5884, val_acc = 0.8161, time = 17.11s\n"
     ]
    },
    {
     "name": "stdout",
     "output_type": "stream",
     "text": [
      "Epoch 12/10000: train_loss = 0.1566, val_loss = 0.9471, val_acc = 0.7232, time = 17.07s\n"
     ]
    },
    {
     "name": "stdout",
     "output_type": "stream",
     "text": [
      "Epoch 13/10000: train_loss = 0.1599, val_loss = 0.7226, val_acc = 0.7897, time = 17.10s\n"
     ]
    },
    {
     "name": "stdout",
     "output_type": "stream",
     "text": [
      "Current lr = 0.0005\n",
      "Updated lr = 0.00025\n",
      "Epoch 14/10000: train_loss = 0.1382, val_loss = 0.5953, val_acc = 0.8215, time = 17.11s\n"
     ]
    },
    {
     "name": "stdout",
     "output_type": "stream",
     "text": [
      "Epoch 15/10000: train_loss = 0.0652, val_loss = 0.5055, val_acc = 0.8550, time = 17.10s\n"
     ]
    },
    {
     "name": "stdout",
     "output_type": "stream",
     "text": [
      "Epoch 16/10000: train_loss = 0.0552, val_loss = 0.5803, val_acc = 0.8389, time = 17.10s\n"
     ]
    },
    {
     "name": "stdout",
     "output_type": "stream",
     "text": [
      "Epoch 17/10000: train_loss = 0.0521, val_loss = 0.7357, val_acc = 0.8219, time = 17.08s\n"
     ]
    },
    {
     "name": "stdout",
     "output_type": "stream",
     "text": [
      "Epoch 18/10000: train_loss = 0.0575, val_loss = 0.5922, val_acc = 0.8444, time = 17.06s\n"
     ]
    },
    {
     "name": "stdout",
     "output_type": "stream",
     "text": [
      "Current lr = 0.00025\n",
      "Updated lr = 0.000125\n",
      "Epoch 19/10000: train_loss = 0.0522, val_loss = 0.6500, val_acc = 0.8367, time = 17.08s\n"
     ]
    },
    {
     "name": "stdout",
     "output_type": "stream",
     "text": [
      "Epoch 20/10000: train_loss = 0.0213, val_loss = 0.5848, val_acc = 0.8668, time = 17.06s\n"
     ]
    },
    {
     "name": "stdout",
     "output_type": "stream",
     "text": [
      "Epoch 21/10000: train_loss = 0.0114, val_loss = 0.5884, val_acc = 0.8714, time = 17.09s\n"
     ]
    },
    {
     "name": "stdout",
     "output_type": "stream",
     "text": [
      "Epoch 22/10000: train_loss = 0.0154, val_loss = 0.6538, val_acc = 0.8590, time = 17.06s\n"
     ]
    },
    {
     "name": "stdout",
     "output_type": "stream",
     "text": [
      "Epoch 23/10000: train_loss = 0.0183, val_loss = 0.6234, val_acc = 0.8656, time = 17.05s\n"
     ]
    },
    {
     "name": "stdout",
     "output_type": "stream",
     "text": [
      "Current lr = 0.000125\n",
      "Updated lr = 6.25e-05\n",
      "Epoch 24/10000: train_loss = 0.0196, val_loss = 0.6229, val_acc = 0.8644, time = 17.10s\n"
     ]
    },
    {
     "name": "stdout",
     "output_type": "stream",
     "text": [
      "Epoch 25/10000: train_loss = 0.0067, val_loss = 0.5952, val_acc = 0.8768, time = 17.06s\n"
     ]
    },
    {
     "name": "stdout",
     "output_type": "stream",
     "text": [
      "Epoch 26/10000: train_loss = 0.0043, val_loss = 0.6028, val_acc = 0.8758, time = 17.08s\n"
     ]
    },
    {
     "name": "stdout",
     "output_type": "stream",
     "text": [
      "Epoch 27/10000: train_loss = 0.0037, val_loss = 0.6236, val_acc = 0.8766, time = 17.05s\n"
     ]
    },
    {
     "name": "stdout",
     "output_type": "stream",
     "text": [
      "Epoch 28/10000: train_loss = 0.0031, val_loss = 0.6253, val_acc = 0.8776, time = 17.05s\n"
     ]
    },
    {
     "name": "stdout",
     "output_type": "stream",
     "text": [
      "Early stopping triggered at epoch 29\n",
      "Finished training after 28 epochs!\n"
     ]
    },
    {
     "name": "stdout",
     "output_type": "stream",
     "text": [
      "VGG15PlusPlus CIFAR-10 Test accuracy: 87.05%\n"
     ]
    }
   ],
   "source": [
    "#store lists\n",
    "test_accuracies, train_losses, val_losses, val_accs, epochs_list = [], [], [], [], []\n",
    "\n",
    "models = [(VGG4Plus, 'VGG4Plus'), (VGG15, 'VGG15'), (VGG15Plus, 'VGG15Plus'), (VGG15PlusPlus, 'VGG15PlusPlus')]\n",
    "\n",
    "for model_class, model_name in models:\n",
    "    tf.keras.backend.clear_session()\n",
    "    tf.random.set_seed(42)\n",
    "    \n",
    "    # Initialize model with He initialization\n",
    "    model = model_class(C=10, input_feats_shape=(32, 32, 3))\n",
    "    model.compile(optimizer='adamw')\n",
    "    \n",
    "    # Train model\n",
    "    train_losses_bn, val_losses_bn, val_accs_bn, epochs_bn = model.fit(\n",
    "        x_train, y_train, x_val, y_val, patience=15, lr_patience=4)\n",
    "    \n",
    "    # Evaluate on test set\n",
    "    test_acc_bn, test_loss_bn = model.evaluate(x_test, y_test)\n",
    "    print(f\"{model_name} CIFAR-10 Test accuracy: {test_acc_bn.numpy()*100:.2f}%\")\n",
    "    \n",
    "    test_accuracies.append(test_acc_bn.numpy())\n",
    "    train_losses.append(train_losses_bn)\n",
    "    val_losses.append(val_losses_bn)\n",
    "    val_accs.append(val_accs_bn)\n",
    "    epochs_list.append(epochs_bn)\n",
    "        "
   ]
  },
  {
   "cell_type": "code",
   "execution_count": 33,
   "id": "1d016b",
   "metadata": {
    "collapsed": false,
    "jupyter": {}
   },
   "outputs": [
    {
     "data": {
      "image/png": "[encoded data removed]",
      "text/plain": [
       "<Figure size 500x1200 with 3 Axes>"
      ]
     },
     "execution_count": 33,
     "metadata": {},
     "output_type": "execute_result"
    },
    {
     "name": "stdout",
     "output_type": "stream",
     "text": [
      "CIFAR-10 test accuracy:\n",
      "VGG4Plus: 72.71%\n",
      "VGG15: 84.34%\n",
      "VGG15Plus: 87.40%\n",
      "VGG15PlusPlus: 87.05%\n"
     ]
    }
   ],
   "source": [
    "plot_loss_acc_x3(train_losses, val_losses, val_accs, epochs_list)\n",
    "\n",
    "# print('CIFAR-10 test accuracy:')\n",
    "# for i in range(len(model_name)):\n",
    "#     print(f'{model_name}: {100*val_accs_bn[i]:.2f}%')\n",
    "    \n",
    "print('CIFAR-10 test accuracy:')\n",
    "for i in range(len(models)):\n",
    "    print(f'{models[i][1]}: {100 * test_accuracies[i]:.2f}%')"
   ]
  },
  {
   "cell_type": "code",
   "execution_count": null,
   "id": "5fe841",
   "metadata": {
    "collapsed": false
   },
   "outputs": [
    {
     "name": "stdout",
     "output_type": "stream",
     "text": [
      "---------------------------------------------------------------------------\n",
      "Dense layer output(denseout) shape: [1, 10]\n",
      "block6:\n",
      "\tDropout layer output(block6/dropout_0) shape: [1, 512]\n",
      "\tDense layer output(block6/dense_0) shape: [1, 512]\n",
      "Flatten layer output(flatten1) shape: [1, 512]\n",
      "block5:\n",
      "\tMaxPool2D layer output(block5/pool) shape: [1, 1, 1, 512]\n",
      "\tConv2D layer output(block5/conv_2) shape: [1, 2, 2, 512]\n",
      "\tConv2D layer output(block5/conv_1) shape: [1, 2, 2, 512]\n",
      "\tConv2D layer output(block5/conv_0) shape: [1, 2, 2, 512]\n",
      "block4:\n",
      "\tMaxPool2D layer output(block4/pool) shape: [1, 2, 2, 512]\n",
      "\tConv2D layer output(block4/conv_2) shape: [1, 4, 4, 512]\n",
      "\tConv2D layer output(block4/conv_1) shape: [1, 4, 4, 512]\n",
      "\tConv2D layer output(block4/conv_0) shape: [1, 4, 4, 512]\n",
      "block3:\n",
      "\tMaxPool2D layer output(block3/pool) shape: [1, 4, 4, 256]\n",
      "\tConv2D layer output(block3/conv_2) shape: [1, 8, 8, 256]\n",
      "\tConv2D layer output(block3/conv_1) shape: [1, 8, 8, 256]\n",
      "\tConv2D layer output(block3/conv_0) shape: [1, 8, 8, 256]\n",
      "block2:\n",
      "\tMaxPool2D layer output(block2/pool) shape: [1, 8, 8, 128]\n",
      "\tConv2D layer output(block2/conv_1) shape: [1, 16, 16, 128]\n",
      "\tConv2D layer output(block2/conv_0) shape: [1, 16, 16, 128]\n",
      "block1:\n",
      "\tMaxPool2D layer output(block1/pool) shape: [1, 16, 16, 64]\n",
      "\tConv2D layer output(block1/conv_1) shape: [1, 32, 32, 64]\n",
      "\tConv2D layer output(block1/conv_0) shape: [1, 32, 32, 64]\n",
      "---------------------------------------------------------------------------\n"
     ]
    },
    {
     "name": "stdout",
     "output_type": "stream",
     "text": [
      "Epoch 1/10000: train_loss = 1.3659, val_loss = 2.7711, val_acc = 0.3197, time = 32.09s\n"
     ]
    },
    {
     "name": "stdout",
     "output_type": "stream",
     "text": [
      "Epoch 2/10000: train_loss = 0.8377, val_loss = 1.2786, val_acc = 0.5535, time = 17.63s\n"
     ]
    },
    {
     "name": "stdout",
     "output_type": "stream",
     "text": [
      "Epoch 3/10000: train_loss = 0.6620, val_loss = 1.0807, val_acc = 0.6392, time = 17.57s\n"
     ]
    },
    {
     "name": "stdout",
     "output_type": "stream",
     "text": [
      "Epoch 4/10000: train_loss = 0.5686, val_loss = 0.9824, val_acc = 0.6737, time = 17.42s\n"
     ]
    },
    {
     "name": "stdout",
     "output_type": "stream",
     "text": [
      "Epoch 5/10000: train_loss = 0.4831, val_loss = 1.0806, val_acc = 0.6396, time = 17.34s\n"
     ]
    },
    {
     "name": "stdout",
     "output_type": "stream",
     "text": [
      "Epoch 6/10000: train_loss = 0.4393, val_loss = 0.8415, val_acc = 0.7282, time = 17.32s\n"
     ]
    },
    {
     "name": "stdout",
     "output_type": "stream",
     "text": [
      "Epoch 7/10000: train_loss = 0.4083, val_loss = 1.2618, val_acc = 0.5881, time = 17.33s\n"
     ]
    },
    {
     "name": "stdout",
     "output_type": "stream",
     "text": [
      "Epoch 8/10000: train_loss = 0.3666, val_loss = 1.3095, val_acc = 0.6034, time = 17.39s\n"
     ]
    },
    {
     "name": "stdout",
     "output_type": "stream",
     "text": [
      "Current lr = 0.001\n",
      "Updated lr = 0.0005\n",
      "Epoch 9/10000: train_loss = 0.3469, val_loss = 1.2909, val_acc = 0.6128, time = 17.41s\n"
     ]
    },
    {
     "name": "stdout",
     "output_type": "stream",
     "text": [
      "Epoch 10/10000: train_loss = 0.2049, val_loss = 0.6891, val_acc = 0.7931, time = 17.37s\n"
     ]
    },
    {
     "name": "stdout",
     "output_type": "stream",
     "text": [
      "Epoch 11/10000: train_loss = 0.1680, val_loss = 0.6567, val_acc = 0.8019, time = 17.36s\n"
     ]
    },
    {
     "name": "stdout",
     "output_type": "stream",
     "text": [
      "Epoch 12/10000: train_loss = 0.1607, val_loss = 0.5731, val_acc = 0.8253, time = 17.32s\n"
     ]
    },
    {
     "name": "stdout",
     "output_type": "stream",
     "text": [
      "Epoch 13/10000: train_loss = 0.1614, val_loss = 0.7780, val_acc = 0.7728, time = 17.33s\n"
     ]
    },
    {
     "name": "stdout",
     "output_type": "stream",
     "text": [
      "Epoch 14/10000: train_loss = 0.1434, val_loss = 0.7848, val_acc = 0.7698, time = 17.38s\n"
     ]
    },
    {
     "name": "stdout",
     "output_type": "stream",
     "text": [
      "Current lr = 0.0005\n",
      "Updated lr = 0.00025\n",
      "Epoch 15/10000: train_loss = 0.1522, val_loss = 0.6184, val_acc = 0.8145, time = 17.34s\n"
     ]
    },
    {
     "name": "stdout",
     "output_type": "stream",
     "text": [
      "Epoch 16/10000: train_loss = 0.0651, val_loss = 0.6071, val_acc = 0.8347, time = 17.34s\n"
     ]
    },
    {
     "name": "stdout",
     "output_type": "stream",
     "text": [
      "Epoch 17/10000: train_loss = 0.0485, val_loss = 0.6543, val_acc = 0.8317, time = 17.33s\n"
     ]
    },
    {
     "name": "stdout",
     "output_type": "stream",
     "text": [
      "Epoch 18/10000: train_loss = 0.0516, val_loss = 0.5950, val_acc = 0.8508, time = 17.30s\n"
     ]
    },
    {
     "name": "stdout",
     "output_type": "stream",
     "text": [
      "Epoch 19/10000: train_loss = 0.0548, val_loss = 0.6419, val_acc = 0.8335, time = 17.33s\n"
     ]
    },
    {
     "name": "stdout",
     "output_type": "stream",
     "text": [
      "Epoch 20/10000: train_loss = 0.0544, val_loss = 0.6000, val_acc = 0.8506, time = 17.34s\n"
     ]
    },
    {
     "name": "stdout",
     "output_type": "stream",
     "text": [
      "Current lr = 0.00025\n",
      "Updated lr = 0.000125\n",
      "Epoch 21/10000: train_loss = 0.0565, val_loss = 0.6696, val_acc = 0.8329, time = 17.36s\n"
     ]
    },
    {
     "name": "stdout",
     "output_type": "stream",
     "text": [
      "Epoch 22/10000: train_loss = 0.0219, val_loss = 0.5602, val_acc = 0.8684, time = 17.31s\n"
     ]
    },
    {
     "name": "stdout",
     "output_type": "stream",
     "text": [
      "Epoch 23/10000: train_loss = 0.0110, val_loss = 0.5849, val_acc = 0.8732, time = 17.30s\n"
     ]
    },
    {
     "name": "stdout",
     "output_type": "stream",
     "text": [
      "Epoch 24/10000: train_loss = 0.0112, val_loss = 0.7196, val_acc = 0.8456, time = 17.33s\n"
     ]
    },
    {
     "name": "stdout",
     "output_type": "stream",
     "text": [
      "Epoch 25/10000: train_loss = 0.0159, val_loss = 0.7062, val_acc = 0.8524, time = 17.40s\n"
     ]
    },
    {
     "name": "stdout",
     "output_type": "stream",
     "text": [
      "Current lr = 0.000125\n",
      "Updated lr = 6.25e-05\n",
      "Epoch 26/10000: train_loss = 0.0196, val_loss = 0.7214, val_acc = 0.8480, time = 17.43s\n"
     ]
    },
    {
     "name": "stdout",
     "output_type": "stream",
     "text": [
      "Epoch 27/10000: train_loss = 0.0087, val_loss = 0.5982, val_acc = 0.8732, time = 17.39s\n"
     ]
    },
    {
     "name": "stdout",
     "output_type": "stream",
     "text": [
      "Epoch 28/10000: train_loss = 0.0041, val_loss = 0.6254, val_acc = 0.8724, time = 17.39s\n"
     ]
    },
    {
     "name": "stdout",
     "output_type": "stream",
     "text": [
      "Epoch 29/10000: train_loss = 0.0039, val_loss = 0.6520, val_acc = 0.8690, time = 17.42s\n"
     ]
    },
    {
     "name": "stdout",
     "output_type": "stream",
     "text": [
      "Epoch 30/10000: train_loss = 0.0046, val_loss = 0.6964, val_acc = 0.8638, time = 17.42s\n"
     ]
    },
    {
     "name": "stdout",
     "output_type": "stream",
     "text": [
      "Current lr = 6.25e-05\n",
      "Updated lr = 3.125e-05\n",
      "Epoch 31/10000: train_loss = 0.0079, val_loss = 0.6827, val_acc = 0.8662, time = 17.43s\n"
     ]
    },
    {
     "name": "stdout",
     "output_type": "stream",
     "text": [
      "Epoch 32/10000: train_loss = 0.0035, val_loss = 0.6637, val_acc = 0.8702, time = 17.42s\n"
     ]
    },
    {
     "name": "stdout",
     "output_type": "stream",
     "text": [
      "Epoch 33/10000: train_loss = 0.0022, val_loss = 0.6825, val_acc = 0.8756, time = 17.40s\n"
     ]
    },
    {
     "name": "stdout",
     "output_type": "stream",
     "text": [
      "Epoch 34/10000: train_loss = 0.0018, val_loss = 0.6805, val_acc = 0.8746, time = 17.39s\n"
     ]
    },
    {
     "name": "stdout",
     "output_type": "stream",
     "text": [
      "Epoch 35/10000: train_loss = 0.0020, val_loss = 0.7014, val_acc = 0.8744, time = 17.41s\n"
     ]
    },
    {
     "name": "stdout",
     "output_type": "stream",
     "text": [
      "Early stopping triggered at epoch 36\n",
      "Finished training after 35 epochs!\n"
     ]
    },
    {
     "name": "stdout",
     "output_type": "stream",
     "text": [
      "VGG15Plus CIFAR-10 Test accuracy: 87.98%\n"
     ]
    },
    {
     "name": "stdout",
     "output_type": "stream",
     "text": [
      "---------------------------------------------------------------------------\n",
      "Dense layer output(denseout) shape: [1, 10]\n",
      "block7:\n",
      "\tDropout layer output(block7/dropout_0) shape: [1, 512]\n",
      "\tDense layer output(block7/dense_0) shape: [1, 512]\n",
      "block6:\n",
      "\tDropout layer output(block6/dropout_0) shape: [1, 512]\n",
      "\tDense layer output(block6/dense_0) shape: [1, 512]\n",
      "Flatten layer output(flatten1) shape: [1, 512]\n",
      "block5:\n",
      "\tMaxPool2D layer output(block5/pool) shape: [1, 1, 1, 512]\n",
      "\tConv2D layer output(block5/conv_2) shape: [1, 2, 2, 512]\n",
      "\tConv2D layer output(block5/conv_1) shape: [1, 2, 2, 512]\n",
      "\tConv2D layer output(block5/conv_0) shape: [1, 2, 2, 512]\n",
      "block4:\n",
      "\tMaxPool2D layer output(block4/pool) shape: [1, 2, 2, 512]\n",
      "\tConv2D layer output(block4/conv_2) shape: [1, 4, 4, 512]\n",
      "\tConv2D layer output(block4/conv_1) shape: [1, 4, 4, 512]\n",
      "\tConv2D layer output(block4/conv_0) shape: [1, 4, 4, 512]\n",
      "block3:\n",
      "\tMaxPool2D layer output(block3/pool) shape: [1, 4, 4, 256]\n",
      "\tConv2D layer output(block3/conv_2) shape: [1, 8, 8, 256]\n",
      "\tConv2D layer output(block3/conv_1) shape: [1, 8, 8, 256]\n",
      "\tConv2D layer output(block3/conv_0) shape: [1, 8, 8, 256]\n",
      "block2:\n",
      "\tMaxPool2D layer output(block2/pool) shape: [1, 8, 8, 128]\n",
      "\tConv2D layer output(block2/conv_1) shape: [1, 16, 16, 128]\n",
      "\tConv2D layer output(block2/conv_0) shape: [1, 16, 16, 128]\n",
      "block1:\n",
      "\tMaxPool2D layer output(block1/pool) shape: [1, 16, 16, 64]\n",
      "\tConv2D layer output(block1/conv_1) shape: [1, 32, 32, 64]\n",
      "\tConv2D layer output(block1/conv_0) shape: [1, 32, 32, 64]\n",
      "---------------------------------------------------------------------------\n"
     ]
    },
    {
     "name": "stdout",
     "output_type": "stream",
     "text": [
      "Epoch 1/10000: train_loss = 1.5341, val_loss = 2.9590, val_acc = 0.2346, time = 32.93s\n"
     ]
    },
    {
     "name": "stdout",
     "output_type": "stream",
     "text": [
      "Epoch 2/10000: train_loss = 0.9425, val_loss = 1.5212, val_acc = 0.4988, time = 17.59s\n"
     ]
    },
    {
     "name": "stdout",
     "output_type": "stream",
     "text": [
      "Epoch 3/10000: train_loss = 0.7547, val_loss = 1.3005, val_acc = 0.5469, time = 17.59s\n"
     ]
    },
    {
     "name": "stdout",
     "output_type": "stream",
     "text": [
      "Epoch 4/10000: train_loss = 0.6336, val_loss = 1.2823, val_acc = 0.5861, time = 17.45s\n"
     ]
    },
    {
     "name": "stdout",
     "output_type": "stream",
     "text": [
      "Epoch 5/10000: train_loss = 0.5465, val_loss = 1.3590, val_acc = 0.5467, time = 17.37s\n"
     ]
    },
    {
     "name": "stdout",
     "output_type": "stream",
     "text": [
      "Epoch 6/10000: train_loss = 0.4942, val_loss = 1.3750, val_acc = 0.5699, time = 17.35s\n"
     ]
    },
    {
     "name": "stdout",
     "output_type": "stream",
     "text": [
      "Epoch 7/10000: train_loss = 0.4534, val_loss = 1.2371, val_acc = 0.5974, time = 17.42s\n"
     ]
    },
    {
     "name": "stdout",
     "output_type": "stream",
     "text": [
      "Epoch 8/10000: train_loss = 0.4094, val_loss = 1.8440, val_acc = 0.4716, time = 17.43s\n"
     ]
    },
    {
     "name": "stdout",
     "output_type": "stream",
     "text": [
      "Epoch 9/10000: train_loss = 0.3961, val_loss = 1.4483, val_acc = 0.5761, time = 17.44s\n"
     ]
    },
    {
     "name": "stdout",
     "output_type": "stream",
     "text": [
      "Epoch 10/10000: train_loss = 0.3742, val_loss = 0.9836, val_acc = 0.6953, time = 17.40s\n"
     ]
    },
    {
     "name": "stdout",
     "output_type": "stream",
     "text": [
      "Epoch 11/10000: train_loss = 0.3636, val_loss = 0.8234, val_acc = 0.7468, time = 17.36s\n"
     ]
    },
    {
     "name": "stdout",
     "output_type": "stream",
     "text": [
      "Epoch 12/10000: train_loss = 0.3427, val_loss = 0.8648, val_acc = 0.7248, time = 17.37s\n"
     ]
    },
    {
     "name": "stdout",
     "output_type": "stream",
     "text": [
      "Epoch 13/10000: train_loss = 0.3402, val_loss = 1.0916, val_acc = 0.6657, time = 17.43s\n"
     ]
    },
    {
     "name": "stdout",
     "output_type": "stream",
     "text": [
      "Current lr = 0.001\n",
      "Updated lr = 0.0005\n",
      "Epoch 14/10000: train_loss = 0.3342, val_loss = 1.2316, val_acc = 0.6100, time = 17.40s\n"
     ]
    },
    {
     "name": "stdout",
     "output_type": "stream",
     "text": [
      "Epoch 15/10000: train_loss = 0.1937, val_loss = 0.8065, val_acc = 0.7576, time = 17.40s\n"
     ]
    },
    {
     "name": "stdout",
     "output_type": "stream",
     "text": [
      "Epoch 16/10000: train_loss = 0.1618, val_loss = 0.5795, val_acc = 0.8233, time = 17.39s\n"
     ]
    },
    {
     "name": "stdout",
     "output_type": "stream",
     "text": [
      "Epoch 17/10000: train_loss = 0.1606, val_loss = 0.8175, val_acc = 0.7716, time = 17.38s\n"
     ]
    },
    {
     "name": "stdout",
     "output_type": "stream",
     "text": [
      "Epoch 18/10000: train_loss = 0.1559, val_loss = 0.7443, val_acc = 0.7812, time = 17.38s\n"
     ]
    },
    {
     "name": "stdout",
     "output_type": "stream",
     "text": [
      "Current lr = 0.0005\n",
      "Updated lr = 0.00025\n",
      "Epoch 19/10000: train_loss = 0.1614, val_loss = 0.6744, val_acc = 0.8031, time = 17.38s\n"
     ]
    },
    {
     "name": "stdout",
     "output_type": "stream",
     "text": [
      "Epoch 20/10000: train_loss = 0.0703, val_loss = 0.5639, val_acc = 0.8480, time = 17.39s\n"
     ]
    },
    {
     "name": "stdout",
     "output_type": "stream",
     "text": [
      "Epoch 21/10000: train_loss = 0.0562, val_loss = 0.7367, val_acc = 0.8079, time = 17.36s\n"
     ]
    },
    {
     "name": "stdout",
     "output_type": "stream",
     "text": [
      "Epoch 22/10000: train_loss = 0.0573, val_loss = 0.6553, val_acc = 0.8383, time = 17.38s\n"
     ]
    },
    {
     "name": "stdout",
     "output_type": "stream",
     "text": [
      "Epoch 23/10000: train_loss = 0.0581, val_loss = 0.5486, val_acc = 0.8626, time = 17.37s\n"
     ]
    },
    {
     "name": "stdout",
     "output_type": "stream",
     "text": [
      "Epoch 24/10000: train_loss = 0.0640, val_loss = 0.6578, val_acc = 0.8363, time = 17.39s\n"
     ]
    },
    {
     "name": "stdout",
     "output_type": "stream",
     "text": [
      "Epoch 25/10000: train_loss = 0.0572, val_loss = 0.6936, val_acc = 0.8317, time = 17.41s\n"
     ]
    },
    {
     "name": "stdout",
     "output_type": "stream",
     "text": [
      "Current lr = 0.00025\n",
      "Updated lr = 0.000125\n",
      "Epoch 26/10000: train_loss = 0.0560, val_loss = 0.7283, val_acc = 0.8305, time = 17.38s\n"
     ]
    },
    {
     "name": "stdout",
     "output_type": "stream",
     "text": [
      "Epoch 27/10000: train_loss = 0.0248, val_loss = 0.6032, val_acc = 0.8596, time = 17.37s\n"
     ]
    },
    {
     "name": "stdout",
     "output_type": "stream",
     "text": [
      "Epoch 28/10000: train_loss = 0.0140, val_loss = 0.6178, val_acc = 0.8636, time = 17.41s\n"
     ]
    },
    {
     "name": "stdout",
     "output_type": "stream",
     "text": [
      "Epoch 29/10000: train_loss = 0.0152, val_loss = 0.6421, val_acc = 0.8636, time = 17.36s\n"
     ]
    },
    {
     "name": "stdout",
     "output_type": "stream",
     "text": [
      "Epoch 30/10000: train_loss = 0.0253, val_loss = 0.6715, val_acc = 0.8648, time = 17.40s\n"
     ]
    },
    {
     "name": "stdout",
     "output_type": "stream",
     "text": [
      "Current lr = 0.000125\n",
      "Updated lr = 6.25e-05\n",
      "Epoch 31/10000: train_loss = 0.0216, val_loss = 0.7103, val_acc = 0.8534, time = 17.42s\n"
     ]
    },
    {
     "name": "stdout",
     "output_type": "stream",
     "text": [
      "Epoch 32/10000: train_loss = 0.0107, val_loss = 0.6843, val_acc = 0.8654, time = 17.42s\n"
     ]
    },
    {
     "name": "stdout",
     "output_type": "stream",
     "text": [
      "Epoch 33/10000: train_loss = 0.0061, val_loss = 0.6753, val_acc = 0.8694, time = 17.47s\n"
     ]
    },
    {
     "name": "stdout",
     "output_type": "stream",
     "text": [
      "Epoch 34/10000: train_loss = 0.0058, val_loss = 0.6634, val_acc = 0.8728, time = 17.46s\n"
     ]
    },
    {
     "name": "stdout",
     "output_type": "stream",
     "text": [
      "Epoch 35/10000: train_loss = 0.0044, val_loss = 0.7292, val_acc = 0.8668, time = 17.38s\n"
     ]
    },
    {
     "name": "stdout",
     "output_type": "stream",
     "text": [
      "Epoch 36/10000: train_loss = 0.0042, val_loss = 0.7603, val_acc = 0.8662, time = 17.38s\n"
     ]
    },
    {
     "name": "stdout",
     "output_type": "stream",
     "text": [
      "Early stopping triggered at epoch 37\n",
      "Finished training after 36 epochs!\n"
     ]
    },
    {
     "name": "stdout",
     "output_type": "stream",
     "text": [
      "VGG16 CIFAR-10 Test accuracy: 85.95%\n"
     ]
    }
   ],
   "source": [
    "\n",
    "#store lists\n",
    "from vgg_nets import VGG16\n",
    "\n",
    "test_accuracies, train_losses, val_losses, val_accs, epochs_list = [], [], [], [], []\n",
    "\n",
    "models = [(VGG15Plus, 'VGG15Plus'), (VGG16, 'VGG16')]\n",
    "\n",
    "for model_class, model_name in models:\n",
    "    tf.keras.backend.clear_session()\n",
    "    tf.random.set_seed(42)\n",
    "    \n",
    "    # Initialize model with He initialization\n",
    "    model = model_class(C=10, input_feats_shape=(32, 32, 3))\n",
    "    model.compile(optimizer='adamw')\n",
    "    \n",
    "    # Train model\n",
    "    train_losses_bn, val_losses_bn, val_accs_bn, epochs_bn = model.fit(\n",
    "        x_train, y_train, x_val, y_val, patience=15, lr_patience=4)\n",
    "    \n",
    "    # Evaluate on test set\n",
    "    test_acc_bn, test_loss_bn = model.evaluate(x_test, y_test)\n",
    "    print(f\"{model_name} CIFAR-10 Test accuracy: {test_acc_bn.numpy()*100:.2f}%\")\n",
    "    \n",
    "    test_accuracies.append(test_acc_bn.numpy())\n",
    "    train_losses.append(train_losses_bn)\n",
    "    val_losses.append(val_losses_bn)\n",
    "    val_accs.append(val_accs_bn)\n",
    "    epochs_list.append(epochs_bn)\n",
    "  "
   ]
  },
  {
   "cell_type": "code",
   "execution_count": null,
   "id": "cbad0f",
   "metadata": {
    "collapsed": false,
    "jupyter": {}
   },
   "outputs": [
    {
     "data": {
      "image/png": "[encoded data removed]",
      "text/plain": [
       "<Figure size 1000x500 with 1 Axes>"
      ]
     },
     "execution_count": 7,
     "metadata": {},
     "output_type": "execute_result"
    }
   ],
   "source": [
    "# plot_loss_acc_x3(train_losses, val_losses, val_accs, epochs_list)\n",
    "\n",
    "# print('CIFAR-10 test accuracy:')\n",
    "# for i in range(len(model_name)):\n",
    "#     print(f'{model_name}: {100*val_accs_bn[i]:.2f}%')\n",
    "\n",
    "# Plot accuracy comparison\n",
    "plt.figure(figsize=(10,5))\n",
    "plt.plot(val_losses[0], label='VGG15 Validation Loss')\n",
    "plt.plot(val_losses[1], label='VGG16 Validation Loss')\n",
    "plt.xlabel('Epochs')\n",
    "plt.ylabel('Validation Loss')\n",
    "plt.title('VGG15 vs VGG16 Loss')\n",
    "plt.legend()\n",
    "plt.show()"
   ]
  },
  {
   "cell_type": "code",
   "execution_count": null,
   "id": "2ff020",
   "metadata": {
    "collapsed": false,
    "jupyter": {}
   },
   "outputs": [
    {
     "data": {
      "image/png": "[encoded data removed]",
      "text/plain": [
       "<Figure size 1000x500 with 1 Axes>"
      ]
     },
     "execution_count": 8,
     "metadata": {},
     "output_type": "execute_result"
    }
   ],
   "source": [
    "# plot_loss_acc_x3(train_losses, val_losses, val_accs, epochs_list)\n",
    "\n",
    "# print('CIFAR-10 test accuracy:')\n",
    "# for i in range(len(model_name)):\n",
    "#     print(f'{model_name}: {100*val_accs_bn[i]:.2f}%')\n",
    "\n",
    "# Plot accuracy comparison\n",
    "plt.figure(figsize=(10,5))\n",
    "plt.plot(val_accs[0], label='VGG15 Validation Accuracy')\n",
    "plt.plot(val_accs[1], label='VGG16 Validation Accuracy')\n",
    "plt.xlabel('Epochs')\n",
    "plt.ylabel('Validation Accuracy')\n",
    "plt.title('VGG15 vs VGG16 Accuracy')\n",
    "plt.legend()\n",
    "plt.show()"
   ]
  }
 ],
 "metadata": {
  "kernelspec": {
   "argv": [
    "/usr/bin/python3",
    "-m",
    "ipykernel",
    "--HistoryManager.enabled=False",
    "--matplotlib=inline",
    "-c",
    "%config InlineBackend.figure_formats = set(['retina'])\nimport matplotlib; matplotlib.rcParams['figure.figsize'] = (12, 7)",
    "-f",
    "{connection_file}"
   ],
   "display_name": "Python 3 (system-wide)",
   "env": {},
   "language": "python",
   "metadata": {
    "cocalc": {
     "description": "Python 3 programming language",
     "priority": 100,
     "url": "https://www.python.org/"
    }
   },
   "name": "python3",
   "resource_dir": "/ext/jupyter/kernels/python3"
  },
  "language_info": {
   "codemirror_mode": {
    "name": "ipython",
    "version": 3
   },
   "file_extension": ".py",
   "mimetype": "text/x-python",
   "name": "python",
   "nbconvert_exporter": "python",
   "pygments_lexer": "ipython3",
   "version": "3.10.12"
  }
 },
 "nbformat": 4,
 "nbformat_minor": 4
}
